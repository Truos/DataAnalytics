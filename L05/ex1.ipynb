{
 "cells": [
  {
   "cell_type": "code",
   "execution_count": 5,
   "metadata": {},
   "outputs": [],
   "source": [
    "from cmdstanpy import CmdStanModel\n",
    "\n",
    "import arviz as az\n",
    "import numpy as np\n",
    "import scipy.stats as stats\n",
    "\n",
    "import pandas as pd\n",
    "\n",
    "import matplotlib.pyplot as plt\n",
    "import matplotlib as mpl"
   ]
  },
  {
   "cell_type": "code",
   "execution_count": 6,
   "metadata": {},
   "outputs": [
    {
     "data": {
      "text/html": [
       "<div>\n",
       "<style scoped>\n",
       "    .dataframe tbody tr th:only-of-type {\n",
       "        vertical-align: middle;\n",
       "    }\n",
       "\n",
       "    .dataframe tbody tr th {\n",
       "        vertical-align: top;\n",
       "    }\n",
       "\n",
       "    .dataframe thead th {\n",
       "        text-align: right;\n",
       "    }\n",
       "</style>\n",
       "<table border=\"1\" class=\"dataframe\">\n",
       "  <thead>\n",
       "    <tr style=\"text-align: right;\">\n",
       "      <th></th>\n",
       "      <th>Unnamed: 0</th>\n",
       "      <th>x1</th>\n",
       "      <th>x2</th>\n",
       "      <th>x3</th>\n",
       "      <th>x4</th>\n",
       "      <th>x5</th>\n",
       "      <th>y</th>\n",
       "    </tr>\n",
       "  </thead>\n",
       "  <tbody>\n",
       "    <tr>\n",
       "      <th>count</th>\n",
       "      <td>500.000000</td>\n",
       "      <td>500.000000</td>\n",
       "      <td>500.000000</td>\n",
       "      <td>500.000000</td>\n",
       "      <td>5.000000e+02</td>\n",
       "      <td>5.000000e+02</td>\n",
       "      <td>500.000000</td>\n",
       "    </tr>\n",
       "    <tr>\n",
       "      <th>mean</th>\n",
       "      <td>249.500000</td>\n",
       "      <td>-0.015777</td>\n",
       "      <td>0.334002</td>\n",
       "      <td>-0.001484</td>\n",
       "      <td>2.022817e-01</td>\n",
       "      <td>2.770684e-03</td>\n",
       "      <td>0.494000</td>\n",
       "    </tr>\n",
       "    <tr>\n",
       "      <th>std</th>\n",
       "      <td>144.481833</td>\n",
       "      <td>0.578292</td>\n",
       "      <td>0.301507</td>\n",
       "      <td>0.383111</td>\n",
       "      <td>2.738984e-01</td>\n",
       "      <td>3.107472e-01</td>\n",
       "      <td>0.500465</td>\n",
       "    </tr>\n",
       "    <tr>\n",
       "      <th>min</th>\n",
       "      <td>0.000000</td>\n",
       "      <td>-0.997592</td>\n",
       "      <td>0.000005</td>\n",
       "      <td>-0.992794</td>\n",
       "      <td>2.276756e-11</td>\n",
       "      <td>-9.880191e-01</td>\n",
       "      <td>0.000000</td>\n",
       "    </tr>\n",
       "    <tr>\n",
       "      <th>25%</th>\n",
       "      <td>124.750000</td>\n",
       "      <td>-0.515144</td>\n",
       "      <td>0.064052</td>\n",
       "      <td>-0.136718</td>\n",
       "      <td>4.102616e-03</td>\n",
       "      <td>-3.628888e-02</td>\n",
       "      <td>0.000000</td>\n",
       "    </tr>\n",
       "    <tr>\n",
       "      <th>50%</th>\n",
       "      <td>249.500000</td>\n",
       "      <td>-0.026042</td>\n",
       "      <td>0.254724</td>\n",
       "      <td>-0.000018</td>\n",
       "      <td>6.488454e-02</td>\n",
       "      <td>-1.278838e-08</td>\n",
       "      <td>0.000000</td>\n",
       "    </tr>\n",
       "    <tr>\n",
       "      <th>75%</th>\n",
       "      <td>374.250000</td>\n",
       "      <td>0.475396</td>\n",
       "      <td>0.555544</td>\n",
       "      <td>0.107440</td>\n",
       "      <td>3.086316e-01</td>\n",
       "      <td>2.428165e-02</td>\n",
       "      <td>1.000000</td>\n",
       "    </tr>\n",
       "    <tr>\n",
       "      <th>max</th>\n",
       "      <td>499.000000</td>\n",
       "      <td>0.999652</td>\n",
       "      <td>0.999305</td>\n",
       "      <td>0.998957</td>\n",
       "      <td>9.986100e-01</td>\n",
       "      <td>9.982628e-01</td>\n",
       "      <td>1.000000</td>\n",
       "    </tr>\n",
       "  </tbody>\n",
       "</table>\n",
       "</div>"
      ],
      "text/plain": [
       "       Unnamed: 0          x1          x2          x3            x4  \\\n",
       "count  500.000000  500.000000  500.000000  500.000000  5.000000e+02   \n",
       "mean   249.500000   -0.015777    0.334002   -0.001484  2.022817e-01   \n",
       "std    144.481833    0.578292    0.301507    0.383111  2.738984e-01   \n",
       "min      0.000000   -0.997592    0.000005   -0.992794  2.276756e-11   \n",
       "25%    124.750000   -0.515144    0.064052   -0.136718  4.102616e-03   \n",
       "50%    249.500000   -0.026042    0.254724   -0.000018  6.488454e-02   \n",
       "75%    374.250000    0.475396    0.555544    0.107440  3.086316e-01   \n",
       "max    499.000000    0.999652    0.999305    0.998957  9.986100e-01   \n",
       "\n",
       "                 x5           y  \n",
       "count  5.000000e+02  500.000000  \n",
       "mean   2.770684e-03    0.494000  \n",
       "std    3.107472e-01    0.500465  \n",
       "min   -9.880191e-01    0.000000  \n",
       "25%   -3.628888e-02    0.000000  \n",
       "50%   -1.278838e-08    0.000000  \n",
       "75%    2.428165e-02    1.000000  \n",
       "max    9.982628e-01    1.000000  "
      ]
     },
     "execution_count": 6,
     "metadata": {},
     "output_type": "execute_result"
    }
   ],
   "source": [
    "data = pd.read_csv('logistic_reg_data.csv')\n",
    "data.describe()"
   ]
  },
  {
   "cell_type": "code",
   "execution_count": 7,
   "metadata": {},
   "outputs": [
    {
     "name": "stderr",
     "output_type": "stream",
     "text": [
      "INFO:cmdstanpy:found newer exe file, not recompiling\n"
     ]
    }
   ],
   "source": [
    "model_ppc1 = CmdStanModel(stan_file='logistic_regression_ppc.stan')"
   ]
  },
  {
   "cell_type": "code",
   "execution_count": 8,
   "metadata": {},
   "outputs": [
    {
     "data": {
      "text/plain": [
       "array([[ 0.00000000e+00, -3.18816202e-01,  1.01643771e-01,\n",
       "        -3.24056810e-02,  1.03314562e-02],\n",
       "       [ 1.00000000e+00,  8.23792808e-01,  6.78634591e-01,\n",
       "         5.59054295e-01,  4.60544908e-01],\n",
       "       [ 2.00000000e+00, -9.48919819e-01,  9.00448822e-01,\n",
       "        -8.54453733e-01,  8.10808081e-01],\n",
       "       ...,\n",
       "       [ 4.97000000e+02,  9.91789426e-01,  9.83646266e-01,\n",
       "         9.75569966e-01,  9.67559977e-01],\n",
       "       [ 4.98000000e+02,  7.14850034e-01,  5.11010572e-01,\n",
       "         3.65295925e-01,  2.61131804e-01],\n",
       "       [ 4.99000000e+02, -8.91617854e-01,  7.94982398e-01,\n",
       "        -7.08820500e-01,  6.31997014e-01]])"
      ]
     },
     "execution_count": 8,
     "metadata": {},
     "output_type": "execute_result"
    }
   ],
   "source": [
    "data.iloc[:,0:5].values"
   ]
  },
  {
   "cell_type": "code",
   "execution_count": 9,
   "metadata": {},
   "outputs": [
    {
     "name": "stderr",
     "output_type": "stream",
     "text": [
      "INFO:cmdstanpy:CmdStan start processing\n",
      "chain 1 |\u001b[34m██████████\u001b[0m| 00:00 Sampling completed                      "
     ]
    },
    {
     "name": "stdout",
     "output_type": "stream",
     "text": [
      "                                                                                "
     ]
    },
    {
     "name": "stderr",
     "output_type": "stream",
     "text": [
      "\n",
      "INFO:cmdstanpy:CmdStan done processing.\n"
     ]
    },
    {
     "name": "stdout",
     "output_type": "stream",
     "text": [
      "\n"
     ]
    }
   ],
   "source": [
    "R=1000\n",
    "data_ppc= dict(N = data.shape[0],\n",
    "                 M = 5,\n",
    "                 X = data.iloc[:,0:5].values,\n",
    "                 sigma=10)\n",
    "sim_ppc1=model_ppc1.sample(data=data_ppc, \n",
    "                           iter_sampling=R, iter_warmup=0, \n",
    "                           chains=1, \n",
    "                           refresh=R,\n",
    "                           fixed_param=True,\n",
    "                           seed=29042020)"
   ]
  },
  {
   "cell_type": "markdown",
   "metadata": {},
   "source": [
    "Task 1.\n",
    "\n",
    "1. Plot histograms of beta for prior model\n",
    "2. Plot again the same histograms but this time with other sigma values. For instace use values: 5, 2, 0.75.\n",
    "3. Consider which result should be taken into account when selecting prior."
   ]
  },
  {
   "cell_type": "code",
   "execution_count": 10,
   "metadata": {},
   "outputs": [
    {
     "data": {
      "text/html": [
       "<div>\n",
       "<style scoped>\n",
       "    .dataframe tbody tr th:only-of-type {\n",
       "        vertical-align: middle;\n",
       "    }\n",
       "\n",
       "    .dataframe tbody tr th {\n",
       "        vertical-align: top;\n",
       "    }\n",
       "\n",
       "    .dataframe thead th {\n",
       "        text-align: right;\n",
       "    }\n",
       "</style>\n",
       "<table border=\"1\" class=\"dataframe\">\n",
       "  <thead>\n",
       "    <tr style=\"text-align: right;\">\n",
       "      <th></th>\n",
       "      <th>lp__</th>\n",
       "      <th>accept_stat__</th>\n",
       "      <th>prob_ppc[1]</th>\n",
       "      <th>prob_ppc[2]</th>\n",
       "      <th>prob_ppc[3]</th>\n",
       "      <th>prob_ppc[4]</th>\n",
       "      <th>prob_ppc[5]</th>\n",
       "      <th>prob_ppc[6]</th>\n",
       "      <th>prob_ppc[7]</th>\n",
       "      <th>prob_ppc[8]</th>\n",
       "      <th>...</th>\n",
       "      <th>prob_ppc[497]</th>\n",
       "      <th>prob_ppc[498]</th>\n",
       "      <th>prob_ppc[499]</th>\n",
       "      <th>prob_ppc[500]</th>\n",
       "      <th>beta[1]</th>\n",
       "      <th>beta[2]</th>\n",
       "      <th>beta[3]</th>\n",
       "      <th>beta[4]</th>\n",
       "      <th>beta[5]</th>\n",
       "      <th>alpha</th>\n",
       "    </tr>\n",
       "  </thead>\n",
       "  <tbody>\n",
       "    <tr>\n",
       "      <th>0</th>\n",
       "      <td>0.0</td>\n",
       "      <td>0.0</td>\n",
       "      <td>0.183287</td>\n",
       "      <td>1.000000</td>\n",
       "      <td>1.000000e+00</td>\n",
       "      <td>1.000000e+00</td>\n",
       "      <td>1.000000e+00</td>\n",
       "      <td>1.000000e+00</td>\n",
       "      <td>1.000000e+00</td>\n",
       "      <td>1.000000e+00</td>\n",
       "      <td>...</td>\n",
       "      <td>1.0</td>\n",
       "      <td>1.0</td>\n",
       "      <td>1.0</td>\n",
       "      <td>1.0</td>\n",
       "      <td>27.081700</td>\n",
       "      <td>7.771810</td>\n",
       "      <td>-12.72270</td>\n",
       "      <td>1.27591</td>\n",
       "      <td>-13.89420</td>\n",
       "      <td>2.461620</td>\n",
       "    </tr>\n",
       "    <tr>\n",
       "      <th>1</th>\n",
       "      <td>0.0</td>\n",
       "      <td>0.0</td>\n",
       "      <td>0.001395</td>\n",
       "      <td>1.000000</td>\n",
       "      <td>9.999850e-01</td>\n",
       "      <td>1.000000e+00</td>\n",
       "      <td>1.000000e+00</td>\n",
       "      <td>1.000000e+00</td>\n",
       "      <td>1.000000e+00</td>\n",
       "      <td>1.000000e+00</td>\n",
       "      <td>...</td>\n",
       "      <td>1.0</td>\n",
       "      <td>1.0</td>\n",
       "      <td>1.0</td>\n",
       "      <td>1.0</td>\n",
       "      <td>11.987300</td>\n",
       "      <td>22.653300</td>\n",
       "      <td>9.70844</td>\n",
       "      <td>5.55378</td>\n",
       "      <td>5.98941</td>\n",
       "      <td>-0.220250</td>\n",
       "    </tr>\n",
       "    <tr>\n",
       "      <th>2</th>\n",
       "      <td>0.0</td>\n",
       "      <td>0.0</td>\n",
       "      <td>0.003400</td>\n",
       "      <td>0.999978</td>\n",
       "      <td>9.937780e-01</td>\n",
       "      <td>1.000000e+00</td>\n",
       "      <td>1.000000e+00</td>\n",
       "      <td>1.000000e+00</td>\n",
       "      <td>1.000000e+00</td>\n",
       "      <td>1.000000e+00</td>\n",
       "      <td>...</td>\n",
       "      <td>1.0</td>\n",
       "      <td>1.0</td>\n",
       "      <td>1.0</td>\n",
       "      <td>1.0</td>\n",
       "      <td>13.120500</td>\n",
       "      <td>-3.421260</td>\n",
       "      <td>-3.11130</td>\n",
       "      <td>16.60650</td>\n",
       "      <td>-1.88132</td>\n",
       "      <td>-5.897550</td>\n",
       "    </tr>\n",
       "    <tr>\n",
       "      <th>3</th>\n",
       "      <td>0.0</td>\n",
       "      <td>0.0</td>\n",
       "      <td>0.105054</td>\n",
       "      <td>0.999762</td>\n",
       "      <td>9.988950e-01</td>\n",
       "      <td>9.988680e-01</td>\n",
       "      <td>9.998770e-01</td>\n",
       "      <td>9.999960e-01</td>\n",
       "      <td>1.000000e+00</td>\n",
       "      <td>1.000000e+00</td>\n",
       "      <td>...</td>\n",
       "      <td>1.0</td>\n",
       "      <td>1.0</td>\n",
       "      <td>1.0</td>\n",
       "      <td>1.0</td>\n",
       "      <td>2.843390</td>\n",
       "      <td>-0.719950</td>\n",
       "      <td>1.15899</td>\n",
       "      <td>6.39209</td>\n",
       "      <td>8.91681</td>\n",
       "      <td>-2.374610</td>\n",
       "    </tr>\n",
       "    <tr>\n",
       "      <th>4</th>\n",
       "      <td>0.0</td>\n",
       "      <td>0.0</td>\n",
       "      <td>0.988406</td>\n",
       "      <td>0.000006</td>\n",
       "      <td>1.000000e+00</td>\n",
       "      <td>1.000000e+00</td>\n",
       "      <td>9.293960e-01</td>\n",
       "      <td>3.276330e-02</td>\n",
       "      <td>9.999810e-01</td>\n",
       "      <td>9.999990e-01</td>\n",
       "      <td>...</td>\n",
       "      <td>1.0</td>\n",
       "      <td>1.0</td>\n",
       "      <td>1.0</td>\n",
       "      <td>1.0</td>\n",
       "      <td>0.966513</td>\n",
       "      <td>-17.072100</td>\n",
       "      <td>0.98292</td>\n",
       "      <td>-6.49448</td>\n",
       "      <td>11.80830</td>\n",
       "      <td>-1.429630</td>\n",
       "    </tr>\n",
       "    <tr>\n",
       "      <th>...</th>\n",
       "      <td>...</td>\n",
       "      <td>...</td>\n",
       "      <td>...</td>\n",
       "      <td>...</td>\n",
       "      <td>...</td>\n",
       "      <td>...</td>\n",
       "      <td>...</td>\n",
       "      <td>...</td>\n",
       "      <td>...</td>\n",
       "      <td>...</td>\n",
       "      <td>...</td>\n",
       "      <td>...</td>\n",
       "      <td>...</td>\n",
       "      <td>...</td>\n",
       "      <td>...</td>\n",
       "      <td>...</td>\n",
       "      <td>...</td>\n",
       "      <td>...</td>\n",
       "      <td>...</td>\n",
       "      <td>...</td>\n",
       "      <td>...</td>\n",
       "    </tr>\n",
       "    <tr>\n",
       "      <th>995</th>\n",
       "      <td>0.0</td>\n",
       "      <td>0.0</td>\n",
       "      <td>0.261543</td>\n",
       "      <td>0.999059</td>\n",
       "      <td>9.999940e-01</td>\n",
       "      <td>1.000000e+00</td>\n",
       "      <td>1.000000e+00</td>\n",
       "      <td>1.000000e+00</td>\n",
       "      <td>1.000000e+00</td>\n",
       "      <td>1.000000e+00</td>\n",
       "      <td>...</td>\n",
       "      <td>1.0</td>\n",
       "      <td>1.0</td>\n",
       "      <td>1.0</td>\n",
       "      <td>1.0</td>\n",
       "      <td>7.998350</td>\n",
       "      <td>0.786523</td>\n",
       "      <td>-9.13510</td>\n",
       "      <td>1.56640</td>\n",
       "      <td>7.67012</td>\n",
       "      <td>0.112832</td>\n",
       "    </tr>\n",
       "    <tr>\n",
       "      <th>996</th>\n",
       "      <td>0.0</td>\n",
       "      <td>0.0</td>\n",
       "      <td>0.900896</td>\n",
       "      <td>0.254183</td>\n",
       "      <td>9.972670e-01</td>\n",
       "      <td>1.115060e-01</td>\n",
       "      <td>6.653730e-05</td>\n",
       "      <td>2.696730e-06</td>\n",
       "      <td>5.196770e-06</td>\n",
       "      <td>1.235530e-06</td>\n",
       "      <td>...</td>\n",
       "      <td>0.0</td>\n",
       "      <td>0.0</td>\n",
       "      <td>0.0</td>\n",
       "      <td>0.0</td>\n",
       "      <td>-2.438420</td>\n",
       "      <td>-4.535120</td>\n",
       "      <td>6.52074</td>\n",
       "      <td>0.27651</td>\n",
       "      <td>0.91221</td>\n",
       "      <td>0.098090</td>\n",
       "    </tr>\n",
       "    <tr>\n",
       "      <th>997</th>\n",
       "      <td>0.0</td>\n",
       "      <td>0.0</td>\n",
       "      <td>0.789632</td>\n",
       "      <td>0.000560</td>\n",
       "      <td>3.397850e-09</td>\n",
       "      <td>7.047700e-10</td>\n",
       "      <td>8.571500e-12</td>\n",
       "      <td>2.941140e-15</td>\n",
       "      <td>6.341000e-18</td>\n",
       "      <td>3.968210e-21</td>\n",
       "      <td>...</td>\n",
       "      <td>0.0</td>\n",
       "      <td>0.0</td>\n",
       "      <td>0.0</td>\n",
       "      <td>0.0</td>\n",
       "      <td>-6.799870</td>\n",
       "      <td>-1.190060</td>\n",
       "      <td>-6.19289</td>\n",
       "      <td>4.38884</td>\n",
       "      <td>0.72679</td>\n",
       "      <td>1.707480</td>\n",
       "    </tr>\n",
       "    <tr>\n",
       "      <th>998</th>\n",
       "      <td>0.0</td>\n",
       "      <td>0.0</td>\n",
       "      <td>1.000000</td>\n",
       "      <td>1.000000</td>\n",
       "      <td>1.000000e+00</td>\n",
       "      <td>1.000000e+00</td>\n",
       "      <td>1.000000e+00</td>\n",
       "      <td>1.000000e+00</td>\n",
       "      <td>1.000000e+00</td>\n",
       "      <td>1.000000e+00</td>\n",
       "      <td>...</td>\n",
       "      <td>1.0</td>\n",
       "      <td>1.0</td>\n",
       "      <td>1.0</td>\n",
       "      <td>1.0</td>\n",
       "      <td>5.223800</td>\n",
       "      <td>-7.571770</td>\n",
       "      <td>19.73160</td>\n",
       "      <td>-3.85811</td>\n",
       "      <td>-4.31394</td>\n",
       "      <td>10.289300</td>\n",
       "    </tr>\n",
       "    <tr>\n",
       "      <th>999</th>\n",
       "      <td>0.0</td>\n",
       "      <td>0.0</td>\n",
       "      <td>0.995231</td>\n",
       "      <td>1.000000</td>\n",
       "      <td>1.000000e+00</td>\n",
       "      <td>1.000000e+00</td>\n",
       "      <td>1.000000e+00</td>\n",
       "      <td>1.000000e+00</td>\n",
       "      <td>1.000000e+00</td>\n",
       "      <td>1.000000e+00</td>\n",
       "      <td>...</td>\n",
       "      <td>1.0</td>\n",
       "      <td>1.0</td>\n",
       "      <td>1.0</td>\n",
       "      <td>1.0</td>\n",
       "      <td>7.705390</td>\n",
       "      <td>2.083350</td>\n",
       "      <td>15.19980</td>\n",
       "      <td>4.82109</td>\n",
       "      <td>-6.60703</td>\n",
       "      <td>4.684500</td>\n",
       "    </tr>\n",
       "  </tbody>\n",
       "</table>\n",
       "<p>1000 rows × 508 columns</p>\n",
       "</div>"
      ],
      "text/plain": [
       "     lp__  accept_stat__  prob_ppc[1]  prob_ppc[2]   prob_ppc[3]  \\\n",
       "0     0.0            0.0     0.183287     1.000000  1.000000e+00   \n",
       "1     0.0            0.0     0.001395     1.000000  9.999850e-01   \n",
       "2     0.0            0.0     0.003400     0.999978  9.937780e-01   \n",
       "3     0.0            0.0     0.105054     0.999762  9.988950e-01   \n",
       "4     0.0            0.0     0.988406     0.000006  1.000000e+00   \n",
       "..    ...            ...          ...          ...           ...   \n",
       "995   0.0            0.0     0.261543     0.999059  9.999940e-01   \n",
       "996   0.0            0.0     0.900896     0.254183  9.972670e-01   \n",
       "997   0.0            0.0     0.789632     0.000560  3.397850e-09   \n",
       "998   0.0            0.0     1.000000     1.000000  1.000000e+00   \n",
       "999   0.0            0.0     0.995231     1.000000  1.000000e+00   \n",
       "\n",
       "      prob_ppc[4]   prob_ppc[5]   prob_ppc[6]   prob_ppc[7]   prob_ppc[8]  \\\n",
       "0    1.000000e+00  1.000000e+00  1.000000e+00  1.000000e+00  1.000000e+00   \n",
       "1    1.000000e+00  1.000000e+00  1.000000e+00  1.000000e+00  1.000000e+00   \n",
       "2    1.000000e+00  1.000000e+00  1.000000e+00  1.000000e+00  1.000000e+00   \n",
       "3    9.988680e-01  9.998770e-01  9.999960e-01  1.000000e+00  1.000000e+00   \n",
       "4    1.000000e+00  9.293960e-01  3.276330e-02  9.999810e-01  9.999990e-01   \n",
       "..            ...           ...           ...           ...           ...   \n",
       "995  1.000000e+00  1.000000e+00  1.000000e+00  1.000000e+00  1.000000e+00   \n",
       "996  1.115060e-01  6.653730e-05  2.696730e-06  5.196770e-06  1.235530e-06   \n",
       "997  7.047700e-10  8.571500e-12  2.941140e-15  6.341000e-18  3.968210e-21   \n",
       "998  1.000000e+00  1.000000e+00  1.000000e+00  1.000000e+00  1.000000e+00   \n",
       "999  1.000000e+00  1.000000e+00  1.000000e+00  1.000000e+00  1.000000e+00   \n",
       "\n",
       "     ...  prob_ppc[497]  prob_ppc[498]  prob_ppc[499]  prob_ppc[500]  \\\n",
       "0    ...            1.0            1.0            1.0            1.0   \n",
       "1    ...            1.0            1.0            1.0            1.0   \n",
       "2    ...            1.0            1.0            1.0            1.0   \n",
       "3    ...            1.0            1.0            1.0            1.0   \n",
       "4    ...            1.0            1.0            1.0            1.0   \n",
       "..   ...            ...            ...            ...            ...   \n",
       "995  ...            1.0            1.0            1.0            1.0   \n",
       "996  ...            0.0            0.0            0.0            0.0   \n",
       "997  ...            0.0            0.0            0.0            0.0   \n",
       "998  ...            1.0            1.0            1.0            1.0   \n",
       "999  ...            1.0            1.0            1.0            1.0   \n",
       "\n",
       "       beta[1]    beta[2]   beta[3]   beta[4]   beta[5]      alpha  \n",
       "0    27.081700   7.771810 -12.72270   1.27591 -13.89420   2.461620  \n",
       "1    11.987300  22.653300   9.70844   5.55378   5.98941  -0.220250  \n",
       "2    13.120500  -3.421260  -3.11130  16.60650  -1.88132  -5.897550  \n",
       "3     2.843390  -0.719950   1.15899   6.39209   8.91681  -2.374610  \n",
       "4     0.966513 -17.072100   0.98292  -6.49448  11.80830  -1.429630  \n",
       "..         ...        ...       ...       ...       ...        ...  \n",
       "995   7.998350   0.786523  -9.13510   1.56640   7.67012   0.112832  \n",
       "996  -2.438420  -4.535120   6.52074   0.27651   0.91221   0.098090  \n",
       "997  -6.799870  -1.190060  -6.19289   4.38884   0.72679   1.707480  \n",
       "998   5.223800  -7.571770  19.73160  -3.85811  -4.31394  10.289300  \n",
       "999   7.705390   2.083350  15.19980   4.82109  -6.60703   4.684500  \n",
       "\n",
       "[1000 rows x 508 columns]"
      ]
     },
     "execution_count": 10,
     "metadata": {},
     "output_type": "execute_result"
    }
   ],
   "source": [
    "df = sim_ppc1.draws_pd()\n",
    "df"
   ]
  },
  {
   "cell_type": "code",
   "execution_count": 11,
   "metadata": {},
   "outputs": [
    {
     "data": {
      "text/plain": [
       "array([[ 27.0817 ,   7.77181, -12.7227 ,   1.27591, -13.8942 ],\n",
       "       [ 11.9873 ,  22.6533 ,   9.70844,   5.55378,   5.98941],\n",
       "       [ 13.1205 ,  -3.42126,  -3.1113 ,  16.6065 ,  -1.88132],\n",
       "       ...,\n",
       "       [ -6.79987,  -1.19006,  -6.19289,   4.38884,   0.72679],\n",
       "       [  5.2238 ,  -7.57177,  19.7316 ,  -3.85811,  -4.31394],\n",
       "       [  7.70539,   2.08335,  15.1998 ,   4.82109,  -6.60703]])"
      ]
     },
     "execution_count": 11,
     "metadata": {},
     "output_type": "execute_result"
    }
   ],
   "source": [
    "beta=sim_ppc1.stan_variable('beta')\n",
    "beta"
   ]
  },
  {
   "cell_type": "code",
   "execution_count": 12,
   "metadata": {},
   "outputs": [
    {
     "data": {
      "text/plain": [
       "Text(0.5, 1.0, 'sigma=10')"
      ]
     },
     "execution_count": 12,
     "metadata": {},
     "output_type": "execute_result"
    },
    {
     "data": {
      "image/png": "[encoded data removed]",
      "text/plain": [
       "<Figure size 432x288 with 1 Axes>"
      ]
     },
     "metadata": {
      "needs_background": "light"
     },
     "output_type": "display_data"
    }
   ],
   "source": [
    "plt.hist(beta)\n",
    "plt.title('sigma=10')"
   ]
  },
  {
   "cell_type": "code",
   "execution_count": 13,
   "metadata": {},
   "outputs": [
    {
     "name": "stderr",
     "output_type": "stream",
     "text": [
      "INFO:cmdstanpy:CmdStan start processing\n",
      "chain 1 |\u001b[34m██████████\u001b[0m| 00:00 Sampling completed                      "
     ]
    },
    {
     "name": "stdout",
     "output_type": "stream",
     "text": [
      "                                                                                "
     ]
    },
    {
     "name": "stderr",
     "output_type": "stream",
     "text": [
      "\n",
      "INFO:cmdstanpy:CmdStan done processing.\n"
     ]
    },
    {
     "name": "stdout",
     "output_type": "stream",
     "text": [
      "\n"
     ]
    }
   ],
   "source": [
    "R=1000\n",
    "data_ppc= dict(N = data.shape[0],\n",
    "                 M = 5,\n",
    "                 X = data.iloc[:,0:5].values,\n",
    "                 sigma=5)\n",
    "sim_ppc2=model_ppc1.sample(data=data_ppc, \n",
    "                           iter_sampling=R, iter_warmup=0, \n",
    "                           chains=1, \n",
    "                           refresh=R,\n",
    "                           fixed_param=True,\n",
    "                           seed=29042020)"
   ]
  },
  {
   "cell_type": "code",
   "execution_count": 14,
   "metadata": {},
   "outputs": [
    {
     "data": {
      "text/plain": [
       "array([[ 27.0817 ,   7.77181, -12.7227 ,   1.27591, -13.8942 ],\n",
       "       [ 11.9873 ,  22.6533 ,   9.70844,   5.55378,   5.98941],\n",
       "       [ 13.1205 ,  -3.42126,  -3.1113 ,  16.6065 ,  -1.88132],\n",
       "       ...,\n",
       "       [ -6.79987,  -1.19006,  -6.19289,   4.38884,   0.72679],\n",
       "       [  5.2238 ,  -7.57177,  19.7316 ,  -3.85811,  -4.31394],\n",
       "       [  7.70539,   2.08335,  15.1998 ,   4.82109,  -6.60703]])"
      ]
     },
     "execution_count": 14,
     "metadata": {},
     "output_type": "execute_result"
    }
   ],
   "source": [
    "df = sim_ppc1.draws_pd()\n",
    "beta=sim_ppc1.stan_variable('beta')\n",
    "beta"
   ]
  },
  {
   "cell_type": "code",
   "execution_count": 15,
   "metadata": {},
   "outputs": [
    {
     "data": {
      "text/plain": [
       "Text(0.5, 1.0, 'sigma=5')"
      ]
     },
     "execution_count": 15,
     "metadata": {},
     "output_type": "execute_result"
    },
    {
     "data": {
      "image/png": "[encoded data removed]",
      "text/plain": [
       "<Figure size 432x288 with 1 Axes>"
      ]
     },
     "metadata": {
      "needs_background": "light"
     },
     "output_type": "display_data"
    }
   ],
   "source": [
    "plt.hist(beta)\n",
    "plt.title('sigma=5')"
   ]
  },
  {
   "cell_type": "code",
   "execution_count": 16,
   "metadata": {},
   "outputs": [
    {
     "name": "stderr",
     "output_type": "stream",
     "text": [
      "INFO:cmdstanpy:CmdStan start processing\n",
      "chain 1 |\u001b[34m██████████\u001b[0m| 00:00 Sampling completed                      "
     ]
    },
    {
     "name": "stdout",
     "output_type": "stream",
     "text": [
      "                                                                                "
     ]
    },
    {
     "name": "stderr",
     "output_type": "stream",
     "text": [
      "\n",
      "INFO:cmdstanpy:CmdStan done processing.\n"
     ]
    },
    {
     "name": "stdout",
     "output_type": "stream",
     "text": [
      "\n"
     ]
    },
    {
     "data": {
      "text/plain": [
       "Text(0.5, 1.0, 'sigma=2')"
      ]
     },
     "execution_count": 16,
     "metadata": {},
     "output_type": "execute_result"
    },
    {
     "data": {
      "image/png": "[encoded data removed]",
      "text/plain": [
       "<Figure size 432x288 with 1 Axes>"
      ]
     },
     "metadata": {
      "needs_background": "light"
     },
     "output_type": "display_data"
    }
   ],
   "source": [
    "R=1000\n",
    "data_ppc= dict(N = data.shape[0],\n",
    "                 M = 5,\n",
    "                 X = data.iloc[:,0:5].values,\n",
    "                 sigma=2)\n",
    "sim_ppc2=model_ppc1.sample(data=data_ppc, \n",
    "                           iter_sampling=R, iter_warmup=0, \n",
    "                           chains=1, \n",
    "                           refresh=R,\n",
    "                           fixed_param=True,\n",
    "                           seed=29042020)\n",
    "\n",
    "df = sim_ppc1.draws_pd()\n",
    "beta=sim_ppc1.stan_variable('beta')\n",
    "\n",
    "plt.hist(beta)\n",
    "plt.title('sigma=2')"
   ]
  },
  {
   "cell_type": "code",
   "execution_count": 17,
   "metadata": {},
   "outputs": [
    {
     "name": "stderr",
     "output_type": "stream",
     "text": [
      "INFO:cmdstanpy:CmdStan start processing\n",
      "chain 1 |\u001b[34m██████████\u001b[0m| 00:00 Sampling completed                      "
     ]
    },
    {
     "name": "stdout",
     "output_type": "stream",
     "text": [
      "                                                                                "
     ]
    },
    {
     "name": "stderr",
     "output_type": "stream",
     "text": [
      "\n",
      "INFO:cmdstanpy:CmdStan done processing.\n"
     ]
    },
    {
     "name": "stdout",
     "output_type": "stream",
     "text": [
      "\n"
     ]
    },
    {
     "data": {
      "text/plain": [
       "Text(0.5, 1.0, 'sigma=0.75')"
      ]
     },
     "execution_count": 17,
     "metadata": {},
     "output_type": "execute_result"
    },
    {
     "data": {
      "image/png": "[encoded data removed]",
      "text/plain": [
       "<Figure size 432x288 with 1 Axes>"
      ]
     },
     "metadata": {
      "needs_background": "light"
     },
     "output_type": "display_data"
    }
   ],
   "source": [
    "R=1000\n",
    "data_ppc= dict(N = data.shape[0],\n",
    "                 M = 5,\n",
    "                 X = data.iloc[:,0:5].values,\n",
    "                 sigma=0.75)\n",
    "sim_ppc2=model_ppc1.sample(data=data_ppc, \n",
    "                           iter_sampling=R, iter_warmup=0, \n",
    "                           chains=1, \n",
    "                           refresh=R,\n",
    "                           fixed_param=True,\n",
    "                           seed=29042020)\n",
    "\n",
    "df = sim_ppc1.draws_pd()\n",
    "beta=sim_ppc1.stan_variable('beta')\n",
    "\n",
    "plt.hist(beta)\n",
    "plt.title('sigma=0.75')"
   ]
  },
  {
   "cell_type": "markdown",
   "metadata": {},
   "source": [
    "Posterior inference"
   ]
  },
  {
   "cell_type": "code",
   "execution_count": 18,
   "metadata": {},
   "outputs": [
    {
     "name": "stderr",
     "output_type": "stream",
     "text": [
      "INFO:cmdstanpy:found newer exe file, not recompiling\n"
     ]
    }
   ],
   "source": [
    "model = CmdStanModel(stan_file='logistic_regression.stan')"
   ]
  },
  {
   "cell_type": "code",
   "execution_count": 19,
   "metadata": {},
   "outputs": [
    {
     "name": "stderr",
     "output_type": "stream",
     "text": [
      "INFO:cmdstanpy:CmdStan start processing\n",
      "chain 1 |\u001b[33m          \u001b[0m| 00:00 Status\n",
      "\u001b[A\n",
      "\n",
      "chain 1 |\u001b[33m▍         \u001b[0m| 00:00 Status\n",
      "\u001b[A\n",
      "\n",
      "chain 1 |\u001b[33m▉         \u001b[0m| 00:05 Iteration:    1 / 2000 [  0%]  (Warmup)\n",
      "\u001b[A\n",
      "\u001b[A\n",
      "\n",
      "\u001b[A\u001b[A\n",
      "chain 1 |\u001b[33m█▎        \u001b[0m| 00:07 Iteration:  100 / 2000 [  5%]  (Warmup)\n",
      "\n",
      "\u001b[A\u001b[A\n",
      "\u001b[A\n",
      "\u001b[A\n",
      "\n",
      "chain 1 |\u001b[33m█▊        \u001b[0m| 00:08 Iteration:  200 / 2000 [ 10%]  (Warmup)\n",
      "\u001b[A\n",
      "\n",
      "\u001b[A\u001b[A\n",
      "chain 1 |\u001b[33m██▎       \u001b[0m| 00:08 Iteration:  300 / 2000 [ 15%]  (Warmup)\n",
      "\u001b[A\n",
      "\n",
      "chain 1 |\u001b[33m██▋       \u001b[0m| 00:09 Iteration:  400 / 2000 [ 20%]  (Warmup)\n",
      "\n",
      "\u001b[A\u001b[A\n",
      "\u001b[A\n",
      "chain 1 |\u001b[33m███▏      \u001b[0m| 00:10 Iteration:  500 / 2000 [ 25%]  (Warmup)\n",
      "\n",
      "\u001b[A\u001b[A\n",
      "chain 1 |\u001b[33m███▋      \u001b[0m| 00:10 Iteration:  600 / 2000 [ 30%]  (Warmup)\n",
      "\n",
      "\u001b[A\u001b[A\n",
      "chain 1 |\u001b[33m████      \u001b[0m| 00:10 Iteration:  700 / 2000 [ 35%]  (Warmup)\n",
      "\n",
      "\u001b[A\u001b[A\n",
      "chain 1 |\u001b[33m████▌     \u001b[0m| 00:11 Iteration:  800 / 2000 [ 40%]  (Warmup)\n",
      "\n",
      "\u001b[A\u001b[A\n",
      "chain 1 |\u001b[33m█████     \u001b[0m| 00:11 Iteration:  900 / 2000 [ 45%]  (Warmup)\n",
      "\n",
      "\u001b[A\u001b[A\n",
      "chain 1 |\u001b[34m█████▉    \u001b[0m| 00:12 Iteration: 1001 / 2000 [ 50%]  (Sampling)\n",
      "\n",
      "\u001b[A\u001b[A\n",
      "chain 1 |\u001b[34m██████▎   \u001b[0m| 00:12 Iteration: 1100 / 2000 [ 55%]  (Sampling)\n",
      "\n",
      "\u001b[A\u001b[A\n",
      "chain 1 |\u001b[34m██████▊   \u001b[0m| 00:13 Iteration: 1200 / 2000 [ 60%]  (Sampling)\n",
      "\n",
      "\u001b[A\u001b[A\n",
      "chain 1 |\u001b[34m███████▎  \u001b[0m| 00:13 Iteration: 1300 / 2000 [ 65%]  (Sampling)\n",
      "\n",
      "\u001b[A\u001b[A\n",
      "chain 1 |\u001b[34m███████▋  \u001b[0m| 00:14 Iteration: 1400 / 2000 [ 70%]  (Sampling)\n",
      "\u001b[A\n",
      "\n",
      "chain 1 |\u001b[34m████████▏ \u001b[0m| 00:14 Iteration: 1500 / 2000 [ 75%]  (Sampling)\n",
      "\n",
      "chain 1 |\u001b[34m████████▋ \u001b[0m| 00:15 Iteration: 1600 / 2000 [ 80%]  (Sampling)\n",
      "\n",
      "chain 1 |\u001b[34m█████████ \u001b[0m| 00:15 Iteration: 1700 / 2000 [ 85%]  (Sampling)\n",
      "\n",
      "chain 1 |\u001b[34m██████████\u001b[0m| 00:15 Sampling completed                       \n",
      "chain 2 |\u001b[34m██████████\u001b[0m| 00:15 Sampling completed                       \n",
      "chain 3 |\u001b[34m██████████\u001b[0m| 00:15 Sampling completed                       \n",
      "chain 4 |\u001b[34m██████████\u001b[0m| 00:15 Sampling completed                       "
     ]
    },
    {
     "name": "stdout",
     "output_type": "stream",
     "text": [
      "                                                                                                                                                                                                                                                                                                                                "
     ]
    },
    {
     "name": "stderr",
     "output_type": "stream",
     "text": [
      "\n",
      "INFO:cmdstanpy:CmdStan done processing.\n"
     ]
    },
    {
     "name": "stdout",
     "output_type": "stream",
     "text": [
      "\n"
     ]
    }
   ],
   "source": [
    "data_dict = dict(N = data.shape[0],\n",
    "                 M = 5,\n",
    "                 X = data.iloc[:,0:5].values,\n",
    "                 y = data.y.values\n",
    "                 )\n",
    "fit = model.sample(data=data_dict, seed=4938483)"
   ]
  },
  {
   "cell_type": "code",
   "execution_count": 23,
   "metadata": {},
   "outputs": [
    {
     "data": {
      "text/html": [
       "<div>\n",
       "<style scoped>\n",
       "    .dataframe tbody tr th:only-of-type {\n",
       "        vertical-align: middle;\n",
       "    }\n",
       "\n",
       "    .dataframe tbody tr th {\n",
       "        vertical-align: top;\n",
       "    }\n",
       "\n",
       "    .dataframe thead th {\n",
       "        text-align: right;\n",
       "    }\n",
       "</style>\n",
       "<table border=\"1\" class=\"dataframe\">\n",
       "  <thead>\n",
       "    <tr style=\"text-align: right;\">\n",
       "      <th></th>\n",
       "      <th>Mean</th>\n",
       "      <th>MCSE</th>\n",
       "      <th>StdDev</th>\n",
       "      <th>5%</th>\n",
       "      <th>50%</th>\n",
       "      <th>95%</th>\n",
       "      <th>N_Eff</th>\n",
       "      <th>N_Eff/s</th>\n",
       "      <th>R_hat</th>\n",
       "    </tr>\n",
       "    <tr>\n",
       "      <th>name</th>\n",
       "      <th></th>\n",
       "      <th></th>\n",
       "      <th></th>\n",
       "      <th></th>\n",
       "      <th></th>\n",
       "      <th></th>\n",
       "      <th></th>\n",
       "      <th></th>\n",
       "      <th></th>\n",
       "    </tr>\n",
       "  </thead>\n",
       "  <tbody>\n",
       "    <tr>\n",
       "      <th>lp__</th>\n",
       "      <td>-340.00000</td>\n",
       "      <td>0.045000</td>\n",
       "      <td>1.70000</td>\n",
       "      <td>-340.0000</td>\n",
       "      <td>-340.00000</td>\n",
       "      <td>-340.00000</td>\n",
       "      <td>1500.0</td>\n",
       "      <td>79.0</td>\n",
       "      <td>1.0</td>\n",
       "    </tr>\n",
       "    <tr>\n",
       "      <th>beta[1]</th>\n",
       "      <td>-0.00024</td>\n",
       "      <td>0.000011</td>\n",
       "      <td>0.00063</td>\n",
       "      <td>-0.0013</td>\n",
       "      <td>-0.00024</td>\n",
       "      <td>0.00075</td>\n",
       "      <td>3430.0</td>\n",
       "      <td>181.0</td>\n",
       "      <td>1.0</td>\n",
       "    </tr>\n",
       "    <tr>\n",
       "      <th>beta[2]</th>\n",
       "      <td>0.65000</td>\n",
       "      <td>0.006600</td>\n",
       "      <td>0.30000</td>\n",
       "      <td>0.1700</td>\n",
       "      <td>0.65000</td>\n",
       "      <td>1.10000</td>\n",
       "      <td>1978.0</td>\n",
       "      <td>105.0</td>\n",
       "      <td>1.0</td>\n",
       "    </tr>\n",
       "    <tr>\n",
       "      <th>beta[3]</th>\n",
       "      <td>-0.45000</td>\n",
       "      <td>0.010000</td>\n",
       "      <td>0.47000</td>\n",
       "      <td>-1.2000</td>\n",
       "      <td>-0.44000</td>\n",
       "      <td>0.31000</td>\n",
       "      <td>2124.0</td>\n",
       "      <td>112.0</td>\n",
       "      <td>1.0</td>\n",
       "    </tr>\n",
       "    <tr>\n",
       "      <th>beta[4]</th>\n",
       "      <td>-0.33000</td>\n",
       "      <td>0.009800</td>\n",
       "      <td>0.44000</td>\n",
       "      <td>-1.1000</td>\n",
       "      <td>-0.32000</td>\n",
       "      <td>0.39000</td>\n",
       "      <td>2022.0</td>\n",
       "      <td>107.0</td>\n",
       "      <td>1.0</td>\n",
       "    </tr>\n",
       "    <tr>\n",
       "      <th>...</th>\n",
       "      <td>...</td>\n",
       "      <td>...</td>\n",
       "      <td>...</td>\n",
       "      <td>...</td>\n",
       "      <td>...</td>\n",
       "      <td>...</td>\n",
       "      <td>...</td>\n",
       "      <td>...</td>\n",
       "      <td>...</td>\n",
       "    </tr>\n",
       "    <tr>\n",
       "      <th>prob_ppc[496]</th>\n",
       "      <td>0.28000</td>\n",
       "      <td>0.001000</td>\n",
       "      <td>0.06300</td>\n",
       "      <td>0.1800</td>\n",
       "      <td>0.28000</td>\n",
       "      <td>0.39000</td>\n",
       "      <td>3863.0</td>\n",
       "      <td>204.0</td>\n",
       "      <td>1.0</td>\n",
       "    </tr>\n",
       "    <tr>\n",
       "      <th>prob_ppc[497]</th>\n",
       "      <td>0.38000</td>\n",
       "      <td>0.000830</td>\n",
       "      <td>0.05100</td>\n",
       "      <td>0.3000</td>\n",
       "      <td>0.38000</td>\n",
       "      <td>0.47000</td>\n",
       "      <td>3741.0</td>\n",
       "      <td>198.0</td>\n",
       "      <td>1.0</td>\n",
       "    </tr>\n",
       "    <tr>\n",
       "      <th>prob_ppc[498]</th>\n",
       "      <td>0.39000</td>\n",
       "      <td>0.001400</td>\n",
       "      <td>0.08500</td>\n",
       "      <td>0.2500</td>\n",
       "      <td>0.39000</td>\n",
       "      <td>0.53000</td>\n",
       "      <td>3942.0</td>\n",
       "      <td>208.0</td>\n",
       "      <td>1.0</td>\n",
       "    </tr>\n",
       "    <tr>\n",
       "      <th>prob_ppc[499]</th>\n",
       "      <td>0.54000</td>\n",
       "      <td>0.000920</td>\n",
       "      <td>0.05500</td>\n",
       "      <td>0.4500</td>\n",
       "      <td>0.54000</td>\n",
       "      <td>0.63000</td>\n",
       "      <td>3585.0</td>\n",
       "      <td>189.0</td>\n",
       "      <td>1.0</td>\n",
       "    </tr>\n",
       "    <tr>\n",
       "      <th>prob_ppc[500]</th>\n",
       "      <td>0.30000</td>\n",
       "      <td>0.000940</td>\n",
       "      <td>0.05900</td>\n",
       "      <td>0.2100</td>\n",
       "      <td>0.30000</td>\n",
       "      <td>0.40000</td>\n",
       "      <td>3941.0</td>\n",
       "      <td>208.0</td>\n",
       "      <td>1.0</td>\n",
       "    </tr>\n",
       "  </tbody>\n",
       "</table>\n",
       "<p>1007 rows × 9 columns</p>\n",
       "</div>"
      ],
      "text/plain": [
       "                    Mean      MCSE   StdDev        5%        50%        95%  \\\n",
       "name                                                                          \n",
       "lp__          -340.00000  0.045000  1.70000 -340.0000 -340.00000 -340.00000   \n",
       "beta[1]         -0.00024  0.000011  0.00063   -0.0013   -0.00024    0.00075   \n",
       "beta[2]          0.65000  0.006600  0.30000    0.1700    0.65000    1.10000   \n",
       "beta[3]         -0.45000  0.010000  0.47000   -1.2000   -0.44000    0.31000   \n",
       "beta[4]         -0.33000  0.009800  0.44000   -1.1000   -0.32000    0.39000   \n",
       "...                  ...       ...      ...       ...        ...        ...   \n",
       "prob_ppc[496]    0.28000  0.001000  0.06300    0.1800    0.28000    0.39000   \n",
       "prob_ppc[497]    0.38000  0.000830  0.05100    0.3000    0.38000    0.47000   \n",
       "prob_ppc[498]    0.39000  0.001400  0.08500    0.2500    0.39000    0.53000   \n",
       "prob_ppc[499]    0.54000  0.000920  0.05500    0.4500    0.54000    0.63000   \n",
       "prob_ppc[500]    0.30000  0.000940  0.05900    0.2100    0.30000    0.40000   \n",
       "\n",
       "                N_Eff  N_Eff/s  R_hat  \n",
       "name                                   \n",
       "lp__           1500.0     79.0    1.0  \n",
       "beta[1]        3430.0    181.0    1.0  \n",
       "beta[2]        1978.0    105.0    1.0  \n",
       "beta[3]        2124.0    112.0    1.0  \n",
       "beta[4]        2022.0    107.0    1.0  \n",
       "...               ...      ...    ...  \n",
       "prob_ppc[496]  3863.0    204.0    1.0  \n",
       "prob_ppc[497]  3741.0    198.0    1.0  \n",
       "prob_ppc[498]  3942.0    208.0    1.0  \n",
       "prob_ppc[499]  3585.0    189.0    1.0  \n",
       "prob_ppc[500]  3941.0    208.0    1.0  \n",
       "\n",
       "[1007 rows x 9 columns]"
      ]
     },
     "execution_count": 23,
     "metadata": {},
     "output_type": "execute_result"
    }
   ],
   "source": [
    "fit.summary()"
   ]
  },
  {
   "cell_type": "code",
   "execution_count": 24,
   "metadata": {},
   "outputs": [],
   "source": [
    "med_prob_ppc = np.percentile(fit.stan_variable('prob_ppc'),[25,50,75],axis=0)\n",
    "estimate_ppc_df = pd.DataFrame(med_prob_ppc.T,columns = ['lo','med','hi'])"
   ]
  },
  {
   "cell_type": "code",
   "execution_count": 25,
   "metadata": {},
   "outputs": [
    {
     "data": {
      "image/png": "[encoded data removed]",
      "text/plain": [
       "<Figure size 432x288 with 1 Axes>"
      ]
     },
     "metadata": {
      "needs_background": "light"
     },
     "output_type": "display_data"
    },
    {
     "data": {
      "image/png": "[encoded data removed]",
      "text/plain": [
       "<Figure size 432x288 with 1 Axes>"
      ]
     },
     "metadata": {
      "needs_background": "light"
     },
     "output_type": "display_data"
    }
   ],
   "source": [
    "plt.plot(med_prob_ppc)\n",
    "plt.show()\n",
    "\n",
    "\n",
    "plt.hist(estimate_ppc_df)\n",
    "labels= [\"low\",\"medium\", \"high\"]\n",
    "plt.legend(labels)\n",
    "plt.show()"
   ]
  },
  {
   "cell_type": "code",
   "execution_count": 26,
   "metadata": {},
   "outputs": [
    {
     "data": {
      "text/plain": [
       "(array([253.,   0.,   0.,   0.,   0.,   0.,   0.,   0.,   0., 247.]),\n",
       " array([0. , 0.1, 0.2, 0.3, 0.4, 0.5, 0.6, 0.7, 0.8, 0.9, 1. ]),\n",
       " <BarContainer object of 10 artists>)"
      ]
     },
     "execution_count": 26,
     "metadata": {},
     "output_type": "execute_result"
    },
    {
     "data": {
      "image/png": "[encoded data removed]",
      "text/plain": [
       "<Figure size 432x288 with 1 Axes>"
      ]
     },
     "metadata": {
      "needs_background": "light"
     },
     "output_type": "display_data"
    },
    {
     "data": {
      "image/png": "[encoded data removed]",
      "text/plain": [
       "<Figure size 432x288 with 1 Axes>"
      ]
     },
     "metadata": {
      "needs_background": "light"
     },
     "output_type": "display_data"
    }
   ],
   "source": [
    "y_ppc=(fit.stan_variable('y_ppc')[0])\n",
    "fig, ax = plt.subplots()\n",
    "plt.title(\"hist_y_ppc\")\n",
    "plt.grid()\n",
    "ax.hist(y_ppc, bins =10)\n",
    "\n",
    "real_y=data[\"y\"]\n",
    "fig, ax = plt.subplots()\n",
    "plt.title(\"hist_y_real\")\n",
    "plt.grid()\n",
    "ax.hist(real_y, bins =10)"
   ]
  },
  {
   "cell_type": "code",
   "execution_count": 27,
   "metadata": {},
   "outputs": [
    {
     "data": {
      "text/plain": [
       "(array([  2.,   0.,   0.,   1.,   3.,   6.,  10.,  11.,  13.,  29.,  34.,\n",
       "         61.,  84., 108., 124., 172., 243., 236., 296., 273., 297., 320.,\n",
       "        336., 250., 235., 205., 173., 146.,  98.,  89.,  54.,  33.,  23.,\n",
       "         14.,   8.,   6.,   3.,   2.,   1.,   1.]),\n",
       " array([0.40569496, 0.40986604, 0.41403713, 0.41820821, 0.4223793 ,\n",
       "        0.42655038, 0.43072147, 0.43489255, 0.43906364, 0.44323473,\n",
       "        0.44740581, 0.4515769 , 0.45574798, 0.45991907, 0.46409015,\n",
       "        0.46826124, 0.47243232, 0.47660341, 0.48077449, 0.48494558,\n",
       "        0.48911667, 0.49328775, 0.49745884, 0.50162992, 0.50580101,\n",
       "        0.50997209, 0.51414318, 0.51831426, 0.52248535, 0.52665643,\n",
       "        0.53082752, 0.5349986 , 0.53916969, 0.54334078, 0.54751186,\n",
       "        0.55168295, 0.55585403, 0.56002512, 0.5641962 , 0.56836729,\n",
       "        0.57253837]),\n",
       " <BarContainer object of 40 artists>)"
      ]
     },
     "execution_count": 27,
     "metadata": {},
     "output_type": "execute_result"
    },
    {
     "data": {
      "image/png": "[encoded data removed]",
      "text/plain": [
       "<Figure size 432x288 with 1 Axes>"
      ]
     },
     "metadata": {
      "needs_background": "light"
     },
     "output_type": "display_data"
    }
   ],
   "source": [
    "prob_ppc=(fit.stan_variable('prob_ppc'))\n",
    "mean_prob_ppc=[]\n",
    "x=0\n",
    "for a in prob_ppc:\n",
    "    mean_prob_ppc.append(a.mean())\n",
    "    x=x+1\n",
    "fig, ax = plt.subplots()\n",
    "plt.title(\"hist_prob_ppc\")\n",
    "plt.grid()\n",
    "ax.hist(mean_prob_ppc, bins =40)"
   ]
  },
  {
   "cell_type": "markdown",
   "metadata": {},
   "source": [
    "Task 2.\n",
    "\n",
    "Edit stan model and create models with different priors. Use original setting and some priors from task 1.\n",
    "Fit the model\n",
    "Plot the probability of individual outcome:\n",
    "plot generated paramether theta (prob_pcc): mean with its error bars (plt.errorbar)\n",
    "to plot its error bars take into consider its 25th, 50th and 75th percentile\n",
    "also mark the real value of y, by different colored dots (for mean values)\n",
    "Consider if the probability was well captured by each setting"
   ]
  },
  {
   "cell_type": "code",
   "execution_count": 29,
   "metadata": {},
   "outputs": [
    {
     "name": "stderr",
     "output_type": "stream",
     "text": [
      "INFO:cmdstanpy:compiling stan file /Users/piotrszyller/Documents/2ndLv/s01/DataAnalytics/L05/logistic_regression_beta_5.stan to exe file /Users/piotrszyller/Documents/2ndLv/s01/DataAnalytics/L05/logistic_regression_beta_5\n",
      "INFO:cmdstanpy:compiled model executable: /Users/piotrszyller/Documents/2ndLv/s01/DataAnalytics/L05/logistic_regression_beta_5\n",
      "WARNING:cmdstanpy:Stan compiler has produced 2 warnings:\n",
      "WARNING:cmdstanpy:\n",
      "--- Translating Stan model to C++ code ---\n",
      "bin/stanc  --o=/Users/piotrszyller/Documents/2ndLv/s01/DataAnalytics/L05/logistic_regression_beta_5.hpp /Users/piotrszyller/Documents/2ndLv/s01/DataAnalytics/L05/logistic_regression_beta_5.stan\n",
      "Warning in '/Users/piotrszyller/Documents/2ndLv/s01/DataAnalytics/L05/logistic_regression_beta_5.stan', line 5, column 4: Declaration\n",
      "    of arrays by placing brackets after a variable name is deprecated and\n",
      "    will be removed in Stan 2.32.0. Instead use the array keyword before the\n",
      "    type. This can be changed automatically using the auto-format flag to\n",
      "    stanc\n",
      "Warning in '/Users/piotrszyller/Documents/2ndLv/s01/DataAnalytics/L05/logistic_regression_beta_5.stan', line 24, column 4: Declaration\n",
      "    of arrays by placing brackets after a variable name is deprecated and\n",
      "    will be removed in Stan 2.32.0. Instead use the array keyword before the\n",
      "    type. This can be changed automatically using the auto-format flag to\n",
      "    stanc\n",
      "\n",
      "--- Compiling, linking C++ code ---\n",
      "x86_64-apple-darwin13.4.0-clang++ -march=core2 -mtune=haswell -mssse3 -ftree-vectorize -fPIC -fPIE -fstack-protector-strong -O2 -pipe -stdlib=libc++ -fvisibility-inlines-hidden -fmessage-length=0 -std=c++14 -isystem /opt/anaconda3/include -std=c++1y -Wno-unknown-warning-option -Wno-tautological-compare -Wno-sign-compare -D_REENTRANT -Wno-ignored-attributes      -I /opt/anaconda3/include/    -O3 -I src -I stan/src -I lib/rapidjson_1.1.0/ -I lib/CLI11-1.9.1/ -I stan/lib/stan_math/ -I stan/lib/stan_math/lib/eigen_3.3.9 -I stan/lib/stan_math/lib/boost_1.75.0 -I stan/lib/stan_math/lib/sundials_6.0.0/include -I stan/lib/stan_math/lib/sundials_6.0.0/src/sundials -D_FORTIFY_SOURCE=2 -isystem /opt/anaconda3/include    -DBOOST_DISABLE_ASSERTS   -DTBB_INTERFACE_NEW  -DTBB_INTERFACE_NEW     -c -include-pch stan/src/stan/model/model_header.hpp.gch -x c++ -o /Users/piotrszyller/Documents/2ndLv/s01/DataAnalytics/L05/logistic_regression_beta_5.o /Users/piotrszyller/Documents/2ndLv/s01/DataAnalytics/L05/logistic_regression_beta_5.hpp\n",
      "x86_64-apple-darwin13.4.0-clang++ -march=core2 -mtune=haswell -mssse3 -ftree-vectorize -fPIC -fPIE -fstack-protector-strong -O2 -pipe -stdlib=libc++ -fvisibility-inlines-hidden -fmessage-length=0 -std=c++14 -isystem /opt/anaconda3/include -std=c++1y -Wno-unknown-warning-option -Wno-tautological-compare -Wno-sign-compare -D_REENTRANT -Wno-ignored-attributes      -I /opt/anaconda3/include/    -O3 -I src -I stan/src -I lib/rapidjson_1.1.0/ -I lib/CLI11-1.9.1/ -I stan/lib/stan_math/ -I stan/lib/stan_math/lib/eigen_3.3.9 -I stan/lib/stan_math/lib/boost_1.75.0 -I stan/lib/stan_math/lib/sundials_6.0.0/include -I stan/lib/stan_math/lib/sundials_6.0.0/src/sundials -D_FORTIFY_SOURCE=2 -isystem /opt/anaconda3/include    -DBOOST_DISABLE_ASSERTS   -DTBB_INTERFACE_NEW  -DTBB_INTERFACE_NEW    -Wl,-pie -Wl,-headerpad_max_install_names -Wl,-dead_strip_dylibs -Wl,-rpath,/opt/anaconda3/lib -L/opt/anaconda3/lib        -Wl,-L,\"/opt/anaconda3/lib/\" -Wl,-rpath,\"/opt/anaconda3/lib/\" -ltbb    /Users/piotrszyller/Documents/2ndLv/s01/DataAnalytics/L05/logistic_regression_beta_5.o src/cmdstan/main.o        -Wl,-L,\"/opt/anaconda3/lib/\" -Wl,-rpath,\"/opt/anaconda3/lib/\" -ltbb stan/lib/stan_math/lib/sundials_6.0.0/lib/libsundials_nvecserial.a stan/lib/stan_math/lib/sundials_6.0.0/lib/libsundials_cvodes.a stan/lib/stan_math/lib/sundials_6.0.0/lib/libsundials_idas.a stan/lib/stan_math/lib/sundials_6.0.0/lib/libsundials_kinsol.a   -o /Users/piotrszyller/Documents/2ndLv/s01/DataAnalytics/L05/logistic_regression_beta_5\n",
      "rm -f /Users/piotrszyller/Documents/2ndLv/s01/DataAnalytics/L05/logistic_regression_beta_5.o\n",
      "\n",
      "INFO:cmdstanpy:CmdStan start processing\n",
      "chain 1 |\u001b[33m          \u001b[0m| 00:00 Status\n",
      "\u001b[A\n",
      "\n",
      "chain 1 |\u001b[33m▍         \u001b[0m| 00:00 Status\n",
      "\n",
      "\u001b[A\u001b[A\n",
      "\u001b[A\n",
      "\u001b[A\n",
      "\n",
      "chain 1 |\u001b[33m▉         \u001b[0m| 00:07 Iteration:    1 / 2000 [  0%]  (Warmup)\n",
      "\u001b[A\n",
      "\n",
      "chain 1 |\u001b[33m█▎        \u001b[0m| 00:09 Iteration:  100 / 2000 [  5%]  (Warmup)\n",
      "\u001b[A\n",
      "\n",
      "\u001b[A\u001b[A\n",
      "chain 1 |\u001b[33m█▊        \u001b[0m| 00:10 Iteration:  200 / 2000 [ 10%]  (Warmup)\n",
      "\n",
      "\u001b[A\u001b[A\n",
      "chain 1 |\u001b[33m██▎       \u001b[0m| 00:11 Iteration:  300 / 2000 [ 15%]  (Warmup)\n",
      "\u001b[A\n",
      "\n",
      "\u001b[A\u001b[A\n",
      "chain 1 |\u001b[33m██▋       \u001b[0m| 00:11 Iteration:  400 / 2000 [ 20%]  (Warmup)\n",
      "\n",
      "\u001b[A\u001b[A\n",
      "chain 1 |\u001b[33m███▏      \u001b[0m| 00:12 Iteration:  500 / 2000 [ 25%]  (Warmup)\n",
      "\n",
      "\u001b[A\u001b[A\n",
      "chain 1 |\u001b[33m███▋      \u001b[0m| 00:12 Iteration:  600 / 2000 [ 30%]  (Warmup)\n",
      "\n",
      "\u001b[A\u001b[A\n",
      "chain 1 |\u001b[33m████      \u001b[0m| 00:12 Iteration:  700 / 2000 [ 35%]  (Warmup)\n",
      "\n",
      "\u001b[A\u001b[A\n",
      "chain 1 |\u001b[33m████▌     \u001b[0m| 00:13 Iteration:  800 / 2000 [ 40%]  (Warmup)\n",
      "\n",
      "\u001b[A\u001b[A\n",
      "\n",
      "\u001b[A\u001b[A\n",
      "chain 1 |\u001b[33m█████     \u001b[0m| 00:13 Iteration:  900 / 2000 [ 45%]  (Warmup)\n",
      "\n",
      "\u001b[A\u001b[A\n",
      "chain 1 |\u001b[34m█████▉    \u001b[0m| 00:14 Iteration: 1001 / 2000 [ 50%]  (Sampling)\n",
      "\n",
      "\u001b[A\u001b[A\n",
      "chain 1 |\u001b[34m██████▎   \u001b[0m| 00:14 Iteration: 1100 / 2000 [ 55%]  (Sampling)\n",
      "\n",
      "\u001b[A\u001b[A\n",
      "chain 1 |\u001b[34m██████▊   \u001b[0m| 00:15 Iteration: 1200 / 2000 [ 60%]  (Sampling)\n",
      "\n",
      "\u001b[A\u001b[A\n",
      "\u001b[A\n",
      "\n",
      "chain 1 |\u001b[34m███████▎  \u001b[0m| 00:15 Iteration: 1300 / 2000 [ 65%]  (Sampling)\n",
      "\u001b[A\n",
      "\n",
      "chain 1 |\u001b[34m███████▋  \u001b[0m| 00:16 Iteration: 1400 / 2000 [ 70%]  (Sampling)\n",
      "\u001b[A\n",
      "\n",
      "chain 1 |\u001b[34m████████▏ \u001b[0m| 00:16 Iteration: 1500 / 2000 [ 75%]  (Sampling)\n",
      "\u001b[A\n",
      "\n",
      "chain 1 |\u001b[34m████████▋ \u001b[0m| 00:17 Iteration: 1600 / 2000 [ 80%]  (Sampling)\n",
      "\u001b[A\n",
      "\n",
      "chain 1 |\u001b[34m█████████ \u001b[0m| 00:17 Iteration: 1700 / 2000 [ 85%]  (Sampling)\n",
      "\n",
      "chain 1 |\u001b[34m██████████\u001b[0m| 00:18 Sampling completed                       \n",
      "chain 2 |\u001b[34m██████████\u001b[0m| 00:18 Sampling completed                       \n",
      "chain 3 |\u001b[34m██████████\u001b[0m| 00:18 Sampling completed                       \n",
      "chain 4 |\u001b[34m██████████\u001b[0m| 00:18 Sampling completed                       "
     ]
    },
    {
     "name": "stdout",
     "output_type": "stream",
     "text": [
      "                                                                                                                                                                                                                                                                                                                                "
     ]
    },
    {
     "name": "stderr",
     "output_type": "stream",
     "text": [
      "\n",
      "INFO:cmdstanpy:CmdStan done processing.\n"
     ]
    },
    {
     "name": "stdout",
     "output_type": "stream",
     "text": [
      "\n"
     ]
    },
    {
     "data": {
      "image/png": "[encoded data removed]",
      "text/plain": [
       "<Figure size 432x288 with 1 Axes>"
      ]
     },
     "metadata": {
      "needs_background": "light"
     },
     "output_type": "display_data"
    },
    {
     "data": {
      "text/plain": [
       "(array([  2.,   1.,   3.,   6.,   7.,  11.,  17.,  30.,  70.,  72.,  86.,\n",
       "        130., 158., 190., 237., 253., 275., 293., 289., 298., 318., 259.,\n",
       "        227., 175., 161., 120., 101.,  68.,  39.,  39.,  24.,  20.,   7.,\n",
       "          6.,   3.,   2.,   0.,   1.,   0.,   2.]),\n",
       " array([0.41715298, 0.42131371, 0.42547443, 0.42963516, 0.43379589,\n",
       "        0.43795662, 0.44211735, 0.44627807, 0.4504388 , 0.45459953,\n",
       "        0.45876026, 0.46292099, 0.46708171, 0.47124244, 0.47540317,\n",
       "        0.4795639 , 0.48372463, 0.48788535, 0.49204608, 0.49620681,\n",
       "        0.50036754, 0.50452827, 0.508689  , 0.51284972, 0.51701045,\n",
       "        0.52117118, 0.52533191, 0.52949264, 0.53365336, 0.53781409,\n",
       "        0.54197482, 0.54613555, 0.55029628, 0.554457  , 0.55861773,\n",
       "        0.56277846, 0.56693919, 0.57109992, 0.57526064, 0.57942137,\n",
       "        0.5835821 ]),\n",
       " <BarContainer object of 40 artists>)"
      ]
     },
     "execution_count": 29,
     "metadata": {},
     "output_type": "execute_result"
    },
    {
     "data": {
      "image/png": "[encoded data removed]",
      "text/plain": [
       "<Figure size 432x288 with 1 Axes>"
      ]
     },
     "metadata": {
      "needs_background": "light"
     },
     "output_type": "display_data"
    },
    {
     "data": {
      "image/png": "[encoded data removed]",
      "text/plain": [
       "<Figure size 432x288 with 1 Axes>"
      ]
     },
     "metadata": {
      "needs_background": "light"
     },
     "output_type": "display_data"
    },
    {
     "data": {
      "image/png": "[encoded data removed]",
      "text/plain": [
       "<Figure size 432x288 with 1 Axes>"
      ]
     },
     "metadata": {
      "needs_background": "light"
     },
     "output_type": "display_data"
    }
   ],
   "source": [
    "model_b5 = CmdStanModel(stan_file='logistic_regression_beta_5.stan')\n",
    "fit_b5 = model_b5.sample(data=data_dict, seed=4938483)\n",
    "#plot\n",
    "med_prob_ppc = np.percentile(fit_b5.stan_variable('prob_ppc'),[25,50,75],axis=0)\n",
    "estimate_ppc_df = pd.DataFrame(med_prob_ppc.T,columns = ['lo','med','hi'])\n",
    "\n",
    "plt.hist(estimate_ppc_df)\n",
    "labels= [\"low\",\"medium\", \"high\"]\n",
    "plt.legend(labels)\n",
    "plt.show()\n",
    "\n",
    "y_ppc_b5=(fit_b5.stan_variable('y_ppc')[0])\n",
    "fig, ax = plt.subplots()\n",
    "plt.title(\"hist_y_ppc_b5\")\n",
    "plt.grid()\n",
    "ax.hist(y_ppc_b5, bins =10)\n",
    "\n",
    "real_y=data[\"y\"]\n",
    "fig, ax = plt.subplots()\n",
    "plt.title(\"hist_y_real_b5\")\n",
    "plt.grid()\n",
    "ax.hist(real_y, bins =10)\n",
    "\n",
    "prob_ppc_b5=(fit_b5.stan_variable('prob_ppc'))\n",
    "mean_prob_ppc_5=[]\n",
    "x=0\n",
    "for a in prob_ppc_b5:\n",
    "    mean_prob_ppc_5.append(a.mean())\n",
    "    x=x+1\n",
    "fig, ax = plt.subplots()\n",
    "plt.title(\"hist_prob_ppc\")\n",
    "plt.grid()\n",
    "ax.hist(mean_prob_ppc_5, bins =40)"
   ]
  },
  {
   "cell_type": "code",
   "execution_count": 30,
   "metadata": {},
   "outputs": [
    {
     "name": "stderr",
     "output_type": "stream",
     "text": [
      "INFO:cmdstanpy:compiling stan file /Users/piotrszyller/Documents/2ndLv/s01/DataAnalytics/L05/logistic_regression_beta_10.stan to exe file /Users/piotrszyller/Documents/2ndLv/s01/DataAnalytics/L05/logistic_regression_beta_10\n",
      "INFO:cmdstanpy:compiled model executable: /Users/piotrszyller/Documents/2ndLv/s01/DataAnalytics/L05/logistic_regression_beta_10\n",
      "WARNING:cmdstanpy:Stan compiler has produced 2 warnings:\n",
      "WARNING:cmdstanpy:\n",
      "--- Translating Stan model to C++ code ---\n",
      "bin/stanc  --o=/Users/piotrszyller/Documents/2ndLv/s01/DataAnalytics/L05/logistic_regression_beta_10.hpp /Users/piotrszyller/Documents/2ndLv/s01/DataAnalytics/L05/logistic_regression_beta_10.stan\n",
      "Warning in '/Users/piotrszyller/Documents/2ndLv/s01/DataAnalytics/L05/logistic_regression_beta_10.stan', line 5, column 4: Declaration\n",
      "    of arrays by placing brackets after a variable name is deprecated and\n",
      "    will be removed in Stan 2.32.0. Instead use the array keyword before the\n",
      "    type. This can be changed automatically using the auto-format flag to\n",
      "    stanc\n",
      "Warning in '/Users/piotrszyller/Documents/2ndLv/s01/DataAnalytics/L05/logistic_regression_beta_10.stan', line 24, column 4: Declaration\n",
      "    of arrays by placing brackets after a variable name is deprecated and\n",
      "    will be removed in Stan 2.32.0. Instead use the array keyword before the\n",
      "    type. This can be changed automatically using the auto-format flag to\n",
      "    stanc\n",
      "\n",
      "--- Compiling, linking C++ code ---\n",
      "x86_64-apple-darwin13.4.0-clang++ -march=core2 -mtune=haswell -mssse3 -ftree-vectorize -fPIC -fPIE -fstack-protector-strong -O2 -pipe -stdlib=libc++ -fvisibility-inlines-hidden -fmessage-length=0 -std=c++14 -isystem /opt/anaconda3/include -std=c++1y -Wno-unknown-warning-option -Wno-tautological-compare -Wno-sign-compare -D_REENTRANT -Wno-ignored-attributes      -I /opt/anaconda3/include/    -O3 -I src -I stan/src -I lib/rapidjson_1.1.0/ -I lib/CLI11-1.9.1/ -I stan/lib/stan_math/ -I stan/lib/stan_math/lib/eigen_3.3.9 -I stan/lib/stan_math/lib/boost_1.75.0 -I stan/lib/stan_math/lib/sundials_6.0.0/include -I stan/lib/stan_math/lib/sundials_6.0.0/src/sundials -D_FORTIFY_SOURCE=2 -isystem /opt/anaconda3/include    -DBOOST_DISABLE_ASSERTS   -DTBB_INTERFACE_NEW  -DTBB_INTERFACE_NEW     -c -include-pch stan/src/stan/model/model_header.hpp.gch -x c++ -o /Users/piotrszyller/Documents/2ndLv/s01/DataAnalytics/L05/logistic_regression_beta_10.o /Users/piotrszyller/Documents/2ndLv/s01/DataAnalytics/L05/logistic_regression_beta_10.hpp\n",
      "x86_64-apple-darwin13.4.0-clang++ -march=core2 -mtune=haswell -mssse3 -ftree-vectorize -fPIC -fPIE -fstack-protector-strong -O2 -pipe -stdlib=libc++ -fvisibility-inlines-hidden -fmessage-length=0 -std=c++14 -isystem /opt/anaconda3/include -std=c++1y -Wno-unknown-warning-option -Wno-tautological-compare -Wno-sign-compare -D_REENTRANT -Wno-ignored-attributes      -I /opt/anaconda3/include/    -O3 -I src -I stan/src -I lib/rapidjson_1.1.0/ -I lib/CLI11-1.9.1/ -I stan/lib/stan_math/ -I stan/lib/stan_math/lib/eigen_3.3.9 -I stan/lib/stan_math/lib/boost_1.75.0 -I stan/lib/stan_math/lib/sundials_6.0.0/include -I stan/lib/stan_math/lib/sundials_6.0.0/src/sundials -D_FORTIFY_SOURCE=2 -isystem /opt/anaconda3/include    -DBOOST_DISABLE_ASSERTS   -DTBB_INTERFACE_NEW  -DTBB_INTERFACE_NEW    -Wl,-pie -Wl,-headerpad_max_install_names -Wl,-dead_strip_dylibs -Wl,-rpath,/opt/anaconda3/lib -L/opt/anaconda3/lib        -Wl,-L,\"/opt/anaconda3/lib/\" -Wl,-rpath,\"/opt/anaconda3/lib/\" -ltbb    /Users/piotrszyller/Documents/2ndLv/s01/DataAnalytics/L05/logistic_regression_beta_10.o src/cmdstan/main.o        -Wl,-L,\"/opt/anaconda3/lib/\" -Wl,-rpath,\"/opt/anaconda3/lib/\" -ltbb stan/lib/stan_math/lib/sundials_6.0.0/lib/libsundials_nvecserial.a stan/lib/stan_math/lib/sundials_6.0.0/lib/libsundials_cvodes.a stan/lib/stan_math/lib/sundials_6.0.0/lib/libsundials_idas.a stan/lib/stan_math/lib/sundials_6.0.0/lib/libsundials_kinsol.a   -o /Users/piotrszyller/Documents/2ndLv/s01/DataAnalytics/L05/logistic_regression_beta_10\n",
      "rm -f /Users/piotrszyller/Documents/2ndLv/s01/DataAnalytics/L05/logistic_regression_beta_10.o\n",
      "\n",
      "INFO:cmdstanpy:CmdStan start processing\n",
      "chain 1 |\u001b[33m          \u001b[0m| 00:00 Status\n",
      "\u001b[A\n",
      "\n",
      "\u001b[A\u001b[A\n",
      "\u001b[A\n",
      "\u001b[A\n",
      "\n",
      "chain 1 |\u001b[33m▉         \u001b[0m| 00:06 Iteration:    1 / 2000 [  0%]  (Warmup)\n",
      "\u001b[A\n",
      "\n",
      "chain 1 |\u001b[33m█▎        \u001b[0m| 00:08 Iteration:  100 / 2000 [  5%]  (Warmup)\n",
      "\u001b[A\n",
      "\n",
      "chain 1 |\u001b[33m█▊        \u001b[0m| 00:09 Iteration:  200 / 2000 [ 10%]  (Warmup)\n",
      "\u001b[A\n",
      "\n",
      "chain 1 |\u001b[33m██▎       \u001b[0m| 00:09 Iteration:  300 / 2000 [ 15%]  (Warmup)\n",
      "\u001b[A\n",
      "\n",
      "\u001b[A\u001b[A\n",
      "chain 1 |\u001b[33m██▋       \u001b[0m| 00:10 Iteration:  400 / 2000 [ 20%]  (Warmup)\n",
      "\n",
      "\u001b[A\u001b[A\n",
      "chain 1 |\u001b[33m███▏      \u001b[0m| 00:10 Iteration:  500 / 2000 [ 25%]  (Warmup)\n",
      "\n",
      "\u001b[A\u001b[A\n",
      "chain 1 |\u001b[33m███▋      \u001b[0m| 00:11 Iteration:  600 / 2000 [ 30%]  (Warmup)\n",
      "\n",
      "\u001b[A\u001b[A\n",
      "chain 1 |\u001b[33m████      \u001b[0m| 00:11 Iteration:  700 / 2000 [ 35%]  (Warmup)\n",
      "\n",
      "\u001b[A\u001b[A\n",
      "chain 1 |\u001b[33m████▌     \u001b[0m| 00:12 Iteration:  800 / 2000 [ 40%]  (Warmup)\n",
      "\n",
      "chain 1 |\u001b[33m█████     \u001b[0m| 00:12 Iteration:  900 / 2000 [ 45%]  (Warmup)\n",
      "\u001b[A\n",
      "\n",
      "chain 1 |\u001b[34m█████▉    \u001b[0m| 00:13 Iteration: 1001 / 2000 [ 50%]  (Sampling)\n",
      "\u001b[A\n",
      "\n",
      "chain 1 |\u001b[34m██████▎   \u001b[0m| 00:13 Iteration: 1100 / 2000 [ 55%]  (Sampling)\n",
      "\u001b[A\n",
      "\u001b[A\n",
      "\n",
      "chain 1 |\u001b[34m██████▊   \u001b[0m| 00:14 Iteration: 1200 / 2000 [ 60%]  (Sampling)\n",
      "\u001b[A\n",
      "\n",
      "chain 1 |\u001b[34m███████▎  \u001b[0m| 00:14 Iteration: 1300 / 2000 [ 65%]  (Sampling)\n",
      "chain 1 |\u001b[34m███████▋  \u001b[0m| 00:14 Iteration: 1400 / 2000 [ 70%]  (Sampling)\n",
      "\n",
      "\u001b[A\u001b[A\n",
      "chain 1 |\u001b[34m████████▏ \u001b[0m| 00:15 Iteration: 1500 / 2000 [ 75%]  (Sampling)\n",
      "\n",
      "\u001b[A\u001b[A\n",
      "chain 1 |\u001b[34m████████▋ \u001b[0m| 00:15 Iteration: 1600 / 2000 [ 80%]  (Sampling)\n",
      "\n",
      "\u001b[A\u001b[A\n",
      "chain 1 |\u001b[34m█████████ \u001b[0m| 00:16 Iteration: 1700 / 2000 [ 85%]  (Sampling)\n",
      "\n",
      "\u001b[A\u001b[A\n",
      "chain 1 |\u001b[34m█████████▌\u001b[0m| 00:16 Iteration: 1800 / 2000 [ 90%]  (Sampling)\n",
      "\n",
      "chain 1 |\u001b[34m██████████\u001b[0m| 00:16 Iteration: 1900 / 2000 [ 95%]  (Sampling)\n",
      "\n",
      "chain 1 |\u001b[34m██████████\u001b[0m| 00:16 Sampling completed                       \n",
      "chain 2 |\u001b[34m██████████\u001b[0m| 00:16 Sampling completed                       \n",
      "chain 3 |\u001b[34m██████████\u001b[0m| 00:16 Sampling completed                       \n",
      "chain 4 |\u001b[34m██████████\u001b[0m| 00:16 Sampling completed                       "
     ]
    },
    {
     "name": "stdout",
     "output_type": "stream",
     "text": [
      "                                                                                                                                                                                                                                                                                                                                "
     ]
    },
    {
     "name": "stderr",
     "output_type": "stream",
     "text": [
      "\n",
      "INFO:cmdstanpy:CmdStan done processing.\n"
     ]
    },
    {
     "name": "stdout",
     "output_type": "stream",
     "text": [
      "\n"
     ]
    },
    {
     "data": {
      "image/png": "[encoded data removed]",
      "text/plain": [
       "<Figure size 432x288 with 1 Axes>"
      ]
     },
     "metadata": {
      "needs_background": "light"
     },
     "output_type": "display_data"
    },
    {
     "data": {
      "text/plain": [
       "(array([253.,   0.,   0.,   0.,   0.,   0.,   0.,   0.,   0., 247.]),\n",
       " array([0. , 0.1, 0.2, 0.3, 0.4, 0.5, 0.6, 0.7, 0.8, 0.9, 1. ]),\n",
       " <BarContainer object of 10 artists>)"
      ]
     },
     "execution_count": 30,
     "metadata": {},
     "output_type": "execute_result"
    },
    {
     "data": {
      "image/png": "[encoded data removed]",
      "text/plain": [
       "<Figure size 432x288 with 1 Axes>"
      ]
     },
     "metadata": {
      "needs_background": "light"
     },
     "output_type": "display_data"
    },
    {
     "data": {
      "image/png": "[encoded data removed]",
      "text/plain": [
       "<Figure size 432x288 with 1 Axes>"
      ]
     },
     "metadata": {
      "needs_background": "light"
     },
     "output_type": "display_data"
    }
   ],
   "source": [
    "model_b10 = CmdStanModel(stan_file='logistic_regression_beta_10.stan')\n",
    "fit_b10 = model_b10.sample(data=data_dict, seed=4938483)\n",
    "#plot\n",
    "med_prob_ppc = np.percentile(fit_b10.stan_variable('prob_ppc'),[25,50,75],axis=0)\n",
    "estimate_ppc_df = pd.DataFrame(med_prob_ppc.T,columns = ['lo','med','hi'])\n",
    "\n",
    "plt.hist(estimate_ppc_df)\n",
    "labels= [\"low\",\"medium\", \"high\"]\n",
    "plt.legend(labels)\n",
    "plt.show()\n",
    "\n",
    "y_ppc_b10=(fit_b10.stan_variable('y_ppc')[0])\n",
    "fig, ax = plt.subplots()\n",
    "plt.title(\"hist_y_ppc_b10\")\n",
    "plt.grid()\n",
    "ax.hist(y_ppc_b10, bins =10)\n",
    "\n",
    "real_y=data[\"y\"]\n",
    "fig, ax = plt.subplots()\n",
    "plt.title(\"hist_y_real_b10\")\n",
    "plt.grid()\n",
    "ax.hist(real_y, bins =10)"
   ]
  },
  {
   "cell_type": "code",
   "execution_count": 31,
   "metadata": {},
   "outputs": [
    {
     "data": {
      "text/plain": [
       "(array([  2.,   2.,   5.,   5.,   6.,  11.,  23.,  35.,  55.,  70.,  66.,\n",
       "        118., 142., 143., 167., 197., 223., 264., 312., 282., 301., 271.,\n",
       "        262., 215., 195., 143., 115., 102.,  85.,  62.,  40.,  28.,  17.,\n",
       "         17.,   6.,   3.,   3.,   5.,   1.,   1.]),\n",
       " array([0.4109005, 0.4158621, 0.4208237, 0.4257853, 0.4307469, 0.4357085,\n",
       "        0.4406701, 0.4456317, 0.4505933, 0.4555549, 0.4605165, 0.4654781,\n",
       "        0.4704397, 0.4754013, 0.4803629, 0.4853245, 0.4902861, 0.4952477,\n",
       "        0.5002093, 0.5051709, 0.5101325, 0.5150941, 0.5200557, 0.5250173,\n",
       "        0.5299789, 0.5349405, 0.5399021, 0.5448637, 0.5498253, 0.5547869,\n",
       "        0.5597485, 0.5647101, 0.5696717, 0.5746333, 0.5795949, 0.5845565,\n",
       "        0.5895181, 0.5944797, 0.5994413, 0.6044029, 0.6093645]),\n",
       " <BarContainer object of 40 artists>)"
      ]
     },
     "execution_count": 31,
     "metadata": {},
     "output_type": "execute_result"
    },
    {
     "data": {
      "image/png": "[encoded data removed]",
      "text/plain": [
       "<Figure size 432x288 with 1 Axes>"
      ]
     },
     "metadata": {
      "needs_background": "light"
     },
     "output_type": "display_data"
    }
   ],
   "source": [
    "prob_ppc_b10=(fit_b10.stan_variable('prob_ppc'))\n",
    "\n",
    "\n",
    "q25 =[]\n",
    "q50 =[]\n",
    "q75 =[]\n",
    "\n",
    "x=0\n",
    "for i in prob_ppc_b10:\n",
    "    q25.append(np.quantile(prob_ppc_b10[x],0.25))\n",
    "    q50.append(np.quantile(prob_ppc_b10[x],0.50))\n",
    "    q75.append(np.quantile(prob_ppc_b10[x],0.75))\n",
    "    x=x+1\n",
    "\n",
    "fig, ax = plt.subplots()\n",
    "plt.title(\"hist_prob_ppc\")\n",
    "plt.grid()\n",
    "ax.hist(q50, bins =40)"
   ]
  },
  {
   "cell_type": "code",
   "execution_count": 32,
   "metadata": {},
   "outputs": [
    {
     "data": {
      "image/png": "[encoded data removed]",
      "text/plain": [
       "<Figure size 432x288 with 1 Axes>"
      ]
     },
     "metadata": {
      "needs_background": "light"
     },
     "output_type": "display_data"
    }
   ],
   "source": [
    "plt.plot(q25)\n",
    "plt.plot(q50)\n",
    "plt.plot(q75)\n",
    "plt.legend(['q25','q50','q75'])\n",
    "plt.show()"
   ]
  },
  {
   "cell_type": "code",
   "execution_count": null,
   "metadata": {},
   "outputs": [],
   "source": []
  }
 ],
 "metadata": {
  "interpreter": {
   "hash": "40d3a090f54c6569ab1632332b64b2c03c39dcf918b08424e98f38b5ae0af88f"
  },
  "kernelspec": {
   "display_name": "Python 3.9.7 ('base')",
   "language": "python",
   "name": "python3"
  },
  "language_info": {
   "codemirror_mode": {
    "name": "ipython",
    "version": 3
   },
   "file_extension": ".py",
   "mimetype": "text/x-python",
   "name": "python",
   "nbconvert_exporter": "python",
   "pygments_lexer": "ipython3",
   "version": "3.9.7"
  },
  "orig_nbformat": 4
 },
 "nbformat": 4,
 "nbformat_minor": 2
}
