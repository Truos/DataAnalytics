{
 "cells": [
  {
   "cell_type": "code",
   "execution_count": 1,
   "metadata": {},
   "outputs": [
    {
     "name": "stderr",
     "output_type": "stream",
     "text": [
      "/opt/anaconda3/lib/python3.9/site-packages/setuptools/distutils_patch.py:25: UserWarning: Distutils was imported before Setuptools. This usage is discouraged and may exhibit undesirable behaviors or errors. Please use Setuptools' objects directly or at least import Setuptools first.\n",
      "  warnings.warn(\n",
      "Error processing line 1 of /opt/anaconda3/lib/python3.9/site-packages/distutils-precedence.pth:\n",
      "\n",
      "  Traceback (most recent call last):\n",
      "    File \"/opt/anaconda3/lib/python3.9/site.py\", line 169, in addpackage\n",
      "      exec(line)\n",
      "    File \"<string>\", line 1, in <module>\n",
      "  ModuleNotFoundError: No module named '_distutils_hack'\n",
      "\n",
      "Remainder of file ignored\n"
     ]
    }
   ],
   "source": [
    "from cmdstanpy import CmdStanModel\n",
    "\n",
    "import arviz as az\n",
    "import numpy as np\n",
    "import scipy.stats as stats\n",
    "\n",
    "import pandas as pd\n",
    "\n",
    "import matplotlib.pyplot as plt\n",
    "import matplotlib as mpl"
   ]
  },
  {
   "cell_type": "code",
   "execution_count": 2,
   "metadata": {},
   "outputs": [],
   "source": [
    "F = len(\"Piotr\")\n",
    "L = len(\"Szyller\")\n",
    "N = (L+F)*100"
   ]
  },
  {
   "cell_type": "code",
   "execution_count": 4,
   "metadata": {},
   "outputs": [
    {
     "name": "stderr",
     "output_type": "stream",
     "text": [
      "INFO:cmdstanpy:found newer exe file, not recompiling\n",
      "INFO:cmdstanpy:CmdStan start processing\n",
      "chain 1 |\u001b[33m          \u001b[0m| 00:00 Status\n",
      "\u001b[A\n",
      "\n",
      "\u001b[A\u001b[A\n",
      "\n",
      "\u001b[A\u001b[A\n",
      "chain 1 |\u001b[34m█▎        \u001b[0m| 00:00 Iteration: 100 / 1000 [ 10%]  (Sampling)\n",
      "\u001b[A\n",
      "\n",
      "chain 1 |\u001b[34m█▊        \u001b[0m| 00:00 Iteration: 200 / 1000 [ 20%]  (Sampling)\n",
      "\u001b[A\n",
      "\n",
      "chain 1 |\u001b[34m██▎       \u001b[0m| 00:00 Iteration: 300 / 1000 [ 30%]  (Sampling)\n",
      "chain 1 |\u001b[34m██▋       \u001b[0m| 00:01 Iteration: 400 / 1000 [ 40%]  (Sampling)\n",
      "\n",
      "\u001b[A\u001b[A\n",
      "\u001b[A\n",
      "\n",
      "chain 1 |\u001b[34m███▏      \u001b[0m| 00:01 Iteration: 500 / 1000 [ 50%]  (Sampling)\n",
      "\u001b[A\n",
      "\n",
      "chain 1 |\u001b[34m███▋      \u001b[0m| 00:01 Iteration: 600 / 1000 [ 60%]  (Sampling)\n",
      "\u001b[A\n",
      "\n",
      "chain 1 |\u001b[34m████      \u001b[0m| 00:01 Iteration: 700 / 1000 [ 70%]  (Sampling)\n",
      "\u001b[A\n",
      "\n",
      "chain 1 |\u001b[34m████▌     \u001b[0m| 00:02 Iteration: 800 / 1000 [ 80%]  (Sampling)\n",
      "chain 1 |\u001b[34m█████     \u001b[0m| 00:02 Iteration: 900 / 1000 [ 90%]  (Sampling)\n",
      "\n",
      "\u001b[A\u001b[A\n",
      "chain 1 |\u001b[34m██████████\u001b[0m| 00:02 Sampling completed                      \n",
      "chain 2 |\u001b[34m██████████\u001b[0m| 00:02 Sampling completed\n",
      "\n",
      "chain 3 |\u001b[34m██████████\u001b[0m| 00:02 Sampling completed\n",
      "\n",
      "\n",
      "chain 4 |\u001b[34m██████████\u001b[0m| 00:02 Sampling completed"
     ]
    },
    {
     "name": "stdout",
     "output_type": "stream",
     "text": [
      "                                                                                                                                                                                                                                                                                                                                "
     ]
    },
    {
     "name": "stderr",
     "output_type": "stream",
     "text": [
      "\n",
      "INFO:cmdstanpy:CmdStan done processing.\n"
     ]
    },
    {
     "name": "stdout",
     "output_type": "stream",
     "text": [
      "\n"
     ]
    }
   ],
   "source": [
    "model_1 = CmdStanModel(stan_file='code_1.stan')\n",
    "result_1 = model_1.sample(data={'N':N})"
   ]
  },
  {
   "cell_type": "code",
   "execution_count": 5,
   "metadata": {},
   "outputs": [
    {
     "data": {
      "text/html": [
       "<div>\n",
       "<style scoped>\n",
       "    .dataframe tbody tr th:only-of-type {\n",
       "        vertical-align: middle;\n",
       "    }\n",
       "\n",
       "    .dataframe tbody tr th {\n",
       "        vertical-align: top;\n",
       "    }\n",
       "\n",
       "    .dataframe thead th {\n",
       "        text-align: right;\n",
       "    }\n",
       "</style>\n",
       "<table border=\"1\" class=\"dataframe\">\n",
       "  <thead>\n",
       "    <tr style=\"text-align: right;\">\n",
       "      <th></th>\n",
       "      <th>Mean</th>\n",
       "      <th>MCSE</th>\n",
       "      <th>StdDev</th>\n",
       "      <th>5%</th>\n",
       "      <th>50%</th>\n",
       "      <th>95%</th>\n",
       "      <th>N_Eff</th>\n",
       "      <th>N_Eff/s</th>\n",
       "      <th>R_hat</th>\n",
       "    </tr>\n",
       "    <tr>\n",
       "      <th>name</th>\n",
       "      <th></th>\n",
       "      <th></th>\n",
       "      <th></th>\n",
       "      <th></th>\n",
       "      <th></th>\n",
       "      <th></th>\n",
       "      <th></th>\n",
       "      <th></th>\n",
       "      <th></th>\n",
       "    </tr>\n",
       "  </thead>\n",
       "  <tbody>\n",
       "    <tr>\n",
       "      <th>lp__</th>\n",
       "      <td>0.000</td>\n",
       "      <td>NaN</td>\n",
       "      <td>0.000000e+00</td>\n",
       "      <td>0.00</td>\n",
       "      <td>0.0000</td>\n",
       "      <td>0.00</td>\n",
       "      <td>NaN</td>\n",
       "      <td>NaN</td>\n",
       "      <td>NaN</td>\n",
       "    </tr>\n",
       "    <tr>\n",
       "      <th>theta</th>\n",
       "      <td>0.010</td>\n",
       "      <td>NaN</td>\n",
       "      <td>2.400000e-16</td>\n",
       "      <td>0.01</td>\n",
       "      <td>0.0100</td>\n",
       "      <td>0.01</td>\n",
       "      <td>NaN</td>\n",
       "      <td>NaN</td>\n",
       "      <td>NaN</td>\n",
       "    </tr>\n",
       "    <tr>\n",
       "      <th>y[1]</th>\n",
       "      <td>0.160</td>\n",
       "      <td>0.030</td>\n",
       "      <td>1.900000e+00</td>\n",
       "      <td>-1.70</td>\n",
       "      <td>0.0510</td>\n",
       "      <td>1.80</td>\n",
       "      <td>3988.0</td>\n",
       "      <td>438.0</td>\n",
       "      <td>1.0</td>\n",
       "    </tr>\n",
       "    <tr>\n",
       "      <th>y[2]</th>\n",
       "      <td>0.110</td>\n",
       "      <td>0.028</td>\n",
       "      <td>1.800000e+00</td>\n",
       "      <td>-1.70</td>\n",
       "      <td>0.0210</td>\n",
       "      <td>1.70</td>\n",
       "      <td>4014.0</td>\n",
       "      <td>441.0</td>\n",
       "      <td>1.0</td>\n",
       "    </tr>\n",
       "    <tr>\n",
       "      <th>y[3]</th>\n",
       "      <td>0.140</td>\n",
       "      <td>0.032</td>\n",
       "      <td>2.000000e+00</td>\n",
       "      <td>-1.70</td>\n",
       "      <td>0.0095</td>\n",
       "      <td>1.70</td>\n",
       "      <td>3975.0</td>\n",
       "      <td>436.0</td>\n",
       "      <td>1.0</td>\n",
       "    </tr>\n",
       "    <tr>\n",
       "      <th>...</th>\n",
       "      <td>...</td>\n",
       "      <td>...</td>\n",
       "      <td>...</td>\n",
       "      <td>...</td>\n",
       "      <td>...</td>\n",
       "      <td>...</td>\n",
       "      <td>...</td>\n",
       "      <td>...</td>\n",
       "      <td>...</td>\n",
       "    </tr>\n",
       "    <tr>\n",
       "      <th>y[1196]</th>\n",
       "      <td>0.072</td>\n",
       "      <td>0.025</td>\n",
       "      <td>1.600000e+00</td>\n",
       "      <td>-1.60</td>\n",
       "      <td>0.0110</td>\n",
       "      <td>1.60</td>\n",
       "      <td>4001.0</td>\n",
       "      <td>439.0</td>\n",
       "      <td>1.0</td>\n",
       "    </tr>\n",
       "    <tr>\n",
       "      <th>y[1197]</th>\n",
       "      <td>0.076</td>\n",
       "      <td>0.025</td>\n",
       "      <td>1.600000e+00</td>\n",
       "      <td>-1.70</td>\n",
       "      <td>0.0045</td>\n",
       "      <td>1.70</td>\n",
       "      <td>4005.0</td>\n",
       "      <td>440.0</td>\n",
       "      <td>1.0</td>\n",
       "    </tr>\n",
       "    <tr>\n",
       "      <th>y[1198]</th>\n",
       "      <td>0.100</td>\n",
       "      <td>0.028</td>\n",
       "      <td>1.800000e+00</td>\n",
       "      <td>-1.70</td>\n",
       "      <td>0.0096</td>\n",
       "      <td>1.70</td>\n",
       "      <td>4048.0</td>\n",
       "      <td>444.0</td>\n",
       "      <td>1.0</td>\n",
       "    </tr>\n",
       "    <tr>\n",
       "      <th>y[1199]</th>\n",
       "      <td>0.086</td>\n",
       "      <td>0.024</td>\n",
       "      <td>1.500000e+00</td>\n",
       "      <td>-1.70</td>\n",
       "      <td>0.0220</td>\n",
       "      <td>1.70</td>\n",
       "      <td>4038.0</td>\n",
       "      <td>443.0</td>\n",
       "      <td>1.0</td>\n",
       "    </tr>\n",
       "    <tr>\n",
       "      <th>y[1200]</th>\n",
       "      <td>0.049</td>\n",
       "      <td>0.025</td>\n",
       "      <td>1.600000e+00</td>\n",
       "      <td>-1.70</td>\n",
       "      <td>0.0099</td>\n",
       "      <td>1.70</td>\n",
       "      <td>4048.0</td>\n",
       "      <td>444.0</td>\n",
       "      <td>1.0</td>\n",
       "    </tr>\n",
       "  </tbody>\n",
       "</table>\n",
       "<p>1202 rows × 9 columns</p>\n",
       "</div>"
      ],
      "text/plain": [
       "          Mean   MCSE        StdDev    5%     50%   95%   N_Eff  N_Eff/s  \\\n",
       "name                                                                       \n",
       "lp__     0.000    NaN  0.000000e+00  0.00  0.0000  0.00     NaN      NaN   \n",
       "theta    0.010    NaN  2.400000e-16  0.01  0.0100  0.01     NaN      NaN   \n",
       "y[1]     0.160  0.030  1.900000e+00 -1.70  0.0510  1.80  3988.0    438.0   \n",
       "y[2]     0.110  0.028  1.800000e+00 -1.70  0.0210  1.70  4014.0    441.0   \n",
       "y[3]     0.140  0.032  2.000000e+00 -1.70  0.0095  1.70  3975.0    436.0   \n",
       "...        ...    ...           ...   ...     ...   ...     ...      ...   \n",
       "y[1196]  0.072  0.025  1.600000e+00 -1.60  0.0110  1.60  4001.0    439.0   \n",
       "y[1197]  0.076  0.025  1.600000e+00 -1.70  0.0045  1.70  4005.0    440.0   \n",
       "y[1198]  0.100  0.028  1.800000e+00 -1.70  0.0096  1.70  4048.0    444.0   \n",
       "y[1199]  0.086  0.024  1.500000e+00 -1.70  0.0220  1.70  4038.0    443.0   \n",
       "y[1200]  0.049  0.025  1.600000e+00 -1.70  0.0099  1.70  4048.0    444.0   \n",
       "\n",
       "         R_hat  \n",
       "name            \n",
       "lp__       NaN  \n",
       "theta      NaN  \n",
       "y[1]       1.0  \n",
       "y[2]       1.0  \n",
       "y[3]       1.0  \n",
       "...        ...  \n",
       "y[1196]    1.0  \n",
       "y[1197]    1.0  \n",
       "y[1198]    1.0  \n",
       "y[1199]    1.0  \n",
       "y[1200]    1.0  \n",
       "\n",
       "[1202 rows x 9 columns]"
      ]
     },
     "execution_count": 5,
     "metadata": {},
     "output_type": "execute_result"
    }
   ],
   "source": [
    "result_1.summary()"
   ]
  },
  {
   "cell_type": "code",
   "execution_count": 6,
   "metadata": {},
   "outputs": [
    {
     "data": {
      "image/png": "[encoded data removed]",
      "text/plain": [
       "<Figure size 432x288 with 1 Axes>"
      ]
     },
     "metadata": {
      "needs_background": "light"
     },
     "output_type": "display_data"
    },
    {
     "data": {
      "image/png": "[encoded data removed]",
      "text/plain": [
       "<Figure size 432x288 with 1 Axes>"
      ]
     },
     "metadata": {
      "needs_background": "light"
     },
     "output_type": "display_data"
    }
   ],
   "source": [
    "y1_median=np.percentile(result_1.stan_variable('y')[:,:],50,axis=0)\n",
    "plt.plot(y1_median)\n",
    "plt.show()\n",
    "plt.hist(y1_median,bins=40)\n",
    "plt.show()"
   ]
  },
  {
   "cell_type": "code",
   "execution_count": 7,
   "metadata": {},
   "outputs": [
    {
     "data": {
      "image/png": "[encoded data removed]",
      "text/plain": [
       "<Figure size 432x288 with 1 Axes>"
      ]
     },
     "metadata": {
      "needs_background": "light"
     },
     "output_type": "display_data"
    },
    {
     "data": {
      "image/png": "[encoded data removed]",
      "text/plain": [
       "<Figure size 432x288 with 1 Axes>"
      ]
     },
     "metadata": {
      "needs_background": "light"
     },
     "output_type": "display_data"
    }
   ],
   "source": [
    "plt.plot(result_1.stan_variable('y')[0])\n",
    "plt.show()\n",
    "plt.hist(result_1.stan_variable('y')[0],bins=40)\n",
    "plt.show()"
   ]
  },
  {
   "cell_type": "code",
   "execution_count": 8,
   "metadata": {},
   "outputs": [
    {
     "name": "stderr",
     "output_type": "stream",
     "text": [
      "INFO:cmdstanpy:found newer exe file, not recompiling\n",
      "INFO:cmdstanpy:CmdStan start processing\n",
      "chain 1 |\u001b[33m          \u001b[0m| 00:00 Status\n",
      "\u001b[A\n",
      "\n",
      "\u001b[A\u001b[A\n",
      "\n",
      "chain 1 |\u001b[34m▉         \u001b[0m| 00:01 Iteration:   1 / 1000 [  0%]  (Sampling)\n",
      "\u001b[A\n",
      "\n",
      "\u001b[A\u001b[A\n",
      "\u001b[A\n",
      "\n",
      "chain 1 |\u001b[34m█▎        \u001b[0m| 00:01 Iteration: 100 / 1000 [ 10%]  (Sampling)\n",
      "chain 1 |\u001b[34m█▊        \u001b[0m| 00:02 Iteration: 200 / 1000 [ 20%]  (Sampling)\n",
      "\n",
      "\u001b[A\u001b[A\n",
      "chain 1 |\u001b[34m██▎       \u001b[0m| 00:03 Iteration: 300 / 1000 [ 30%]  (Sampling)\n",
      "\n",
      "\u001b[A\u001b[A\n",
      "chain 1 |\u001b[34m██▋       \u001b[0m| 00:04 Iteration: 400 / 1000 [ 40%]  (Sampling)\n",
      "\n",
      "\u001b[A\u001b[A\n",
      "chain 1 |\u001b[34m███▏      \u001b[0m| 00:05 Iteration: 500 / 1000 [ 50%]  (Sampling)\n",
      "\n",
      "\u001b[A\u001b[A\n",
      "chain 1 |\u001b[34m███▋      \u001b[0m| 00:06 Iteration: 600 / 1000 [ 60%]  (Sampling)\n",
      "\n",
      "\u001b[A\u001b[A\n",
      "chain 1 |\u001b[34m████      \u001b[0m| 00:06 Iteration: 700 / 1000 [ 70%]  (Sampling)\n",
      "\n",
      "\u001b[A\u001b[A\n",
      "chain 1 |\u001b[34m████▌     \u001b[0m| 00:07 Iteration: 800 / 1000 [ 80%]  (Sampling)\n",
      "\n",
      "\u001b[A\u001b[A\n",
      "chain 1 |\u001b[34m█████     \u001b[0m| 00:08 Iteration: 900 / 1000 [ 90%]  (Sampling)\n",
      "\n",
      "chain 1 |\u001b[34m██████████\u001b[0m| 00:09 Sampling completed                      \n",
      "chain 2 |\u001b[34m██████████\u001b[0m| 00:09 Sampling completed\n",
      "\n",
      "chain 3 |\u001b[34m██████████\u001b[0m| 00:08 Sampling completed\n",
      "chain 4 |\u001b[34m██████████\u001b[0m| 00:08 Sampling completed                      "
     ]
    },
    {
     "name": "stdout",
     "output_type": "stream",
     "text": [
      "                                                                                                                                                                                                                                                                                                                                "
     ]
    },
    {
     "name": "stderr",
     "output_type": "stream",
     "text": [
      "\n",
      "INFO:cmdstanpy:CmdStan done processing.\n"
     ]
    },
    {
     "name": "stdout",
     "output_type": "stream",
     "text": [
      "\n"
     ]
    }
   ],
   "source": [
    "model_2 = CmdStanModel(stan_file='code_2.stan')\n",
    "data_2=dict(\n",
    "    N=N\n",
    ")\n",
    "result_2 = model_2.sample(data=data_2, chains = 4)"
   ]
  },
  {
   "cell_type": "code",
   "execution_count": 9,
   "metadata": {},
   "outputs": [
    {
     "data": {
      "text/html": [
       "<div>\n",
       "<style scoped>\n",
       "    .dataframe tbody tr th:only-of-type {\n",
       "        vertical-align: middle;\n",
       "    }\n",
       "\n",
       "    .dataframe tbody tr th {\n",
       "        vertical-align: top;\n",
       "    }\n",
       "\n",
       "    .dataframe thead th {\n",
       "        text-align: right;\n",
       "    }\n",
       "</style>\n",
       "<table border=\"1\" class=\"dataframe\">\n",
       "  <thead>\n",
       "    <tr style=\"text-align: right;\">\n",
       "      <th></th>\n",
       "      <th>Mean</th>\n",
       "      <th>MCSE</th>\n",
       "      <th>StdDev</th>\n",
       "      <th>5%</th>\n",
       "      <th>50%</th>\n",
       "      <th>95%</th>\n",
       "      <th>N_Eff</th>\n",
       "      <th>N_Eff/s</th>\n",
       "      <th>R_hat</th>\n",
       "    </tr>\n",
       "    <tr>\n",
       "      <th>name</th>\n",
       "      <th></th>\n",
       "      <th></th>\n",
       "      <th></th>\n",
       "      <th></th>\n",
       "      <th></th>\n",
       "      <th></th>\n",
       "      <th></th>\n",
       "      <th></th>\n",
       "      <th></th>\n",
       "    </tr>\n",
       "  </thead>\n",
       "  <tbody>\n",
       "    <tr>\n",
       "      <th>lp__</th>\n",
       "      <td>0.0000</td>\n",
       "      <td>NaN</td>\n",
       "      <td>0.00</td>\n",
       "      <td>0.0</td>\n",
       "      <td>0.000</td>\n",
       "      <td>0.0</td>\n",
       "      <td>NaN</td>\n",
       "      <td>NaN</td>\n",
       "      <td>NaN</td>\n",
       "    </tr>\n",
       "    <tr>\n",
       "      <th>X[1,1]</th>\n",
       "      <td>-0.0130</td>\n",
       "      <td>0.017</td>\n",
       "      <td>1.00</td>\n",
       "      <td>-1.6</td>\n",
       "      <td>-0.023</td>\n",
       "      <td>1.6</td>\n",
       "      <td>3556.0</td>\n",
       "      <td>102.0</td>\n",
       "      <td>1.0</td>\n",
       "    </tr>\n",
       "    <tr>\n",
       "      <th>X[1,2]</th>\n",
       "      <td>-0.0130</td>\n",
       "      <td>0.016</td>\n",
       "      <td>0.99</td>\n",
       "      <td>-1.6</td>\n",
       "      <td>-0.020</td>\n",
       "      <td>1.6</td>\n",
       "      <td>3781.0</td>\n",
       "      <td>109.0</td>\n",
       "      <td>1.0</td>\n",
       "    </tr>\n",
       "    <tr>\n",
       "      <th>X[1,3]</th>\n",
       "      <td>0.0220</td>\n",
       "      <td>0.015</td>\n",
       "      <td>1.00</td>\n",
       "      <td>-1.6</td>\n",
       "      <td>0.029</td>\n",
       "      <td>1.6</td>\n",
       "      <td>4256.0</td>\n",
       "      <td>122.0</td>\n",
       "      <td>1.0</td>\n",
       "    </tr>\n",
       "    <tr>\n",
       "      <th>X[2,1]</th>\n",
       "      <td>0.0029</td>\n",
       "      <td>0.016</td>\n",
       "      <td>1.00</td>\n",
       "      <td>-1.6</td>\n",
       "      <td>-0.027</td>\n",
       "      <td>1.7</td>\n",
       "      <td>3884.0</td>\n",
       "      <td>112.0</td>\n",
       "      <td>1.0</td>\n",
       "    </tr>\n",
       "    <tr>\n",
       "      <th>...</th>\n",
       "      <td>...</td>\n",
       "      <td>...</td>\n",
       "      <td>...</td>\n",
       "      <td>...</td>\n",
       "      <td>...</td>\n",
       "      <td>...</td>\n",
       "      <td>...</td>\n",
       "      <td>...</td>\n",
       "      <td>...</td>\n",
       "    </tr>\n",
       "    <tr>\n",
       "      <th>y[1196]</th>\n",
       "      <td>-0.0290</td>\n",
       "      <td>0.041</td>\n",
       "      <td>2.50</td>\n",
       "      <td>-4.2</td>\n",
       "      <td>0.025</td>\n",
       "      <td>4.1</td>\n",
       "      <td>3903.0</td>\n",
       "      <td>112.0</td>\n",
       "      <td>1.0</td>\n",
       "    </tr>\n",
       "    <tr>\n",
       "      <th>y[1197]</th>\n",
       "      <td>0.0160</td>\n",
       "      <td>0.041</td>\n",
       "      <td>2.60</td>\n",
       "      <td>-4.1</td>\n",
       "      <td>0.039</td>\n",
       "      <td>4.3</td>\n",
       "      <td>3947.0</td>\n",
       "      <td>113.0</td>\n",
       "      <td>1.0</td>\n",
       "    </tr>\n",
       "    <tr>\n",
       "      <th>y[1198]</th>\n",
       "      <td>-0.0130</td>\n",
       "      <td>0.040</td>\n",
       "      <td>2.50</td>\n",
       "      <td>-4.1</td>\n",
       "      <td>-0.024</td>\n",
       "      <td>4.0</td>\n",
       "      <td>3977.0</td>\n",
       "      <td>114.0</td>\n",
       "      <td>1.0</td>\n",
       "    </tr>\n",
       "    <tr>\n",
       "      <th>y[1199]</th>\n",
       "      <td>0.0019</td>\n",
       "      <td>0.040</td>\n",
       "      <td>2.50</td>\n",
       "      <td>-4.1</td>\n",
       "      <td>-0.018</td>\n",
       "      <td>4.0</td>\n",
       "      <td>3818.0</td>\n",
       "      <td>110.0</td>\n",
       "      <td>1.0</td>\n",
       "    </tr>\n",
       "    <tr>\n",
       "      <th>y[1200]</th>\n",
       "      <td>-0.0560</td>\n",
       "      <td>0.040</td>\n",
       "      <td>2.50</td>\n",
       "      <td>-4.2</td>\n",
       "      <td>0.002</td>\n",
       "      <td>4.1</td>\n",
       "      <td>3857.0</td>\n",
       "      <td>111.0</td>\n",
       "      <td>1.0</td>\n",
       "    </tr>\n",
       "  </tbody>\n",
       "</table>\n",
       "<p>4804 rows × 9 columns</p>\n",
       "</div>"
      ],
      "text/plain": [
       "           Mean   MCSE  StdDev   5%    50%  95%   N_Eff  N_Eff/s  R_hat\n",
       "name                                                                   \n",
       "lp__     0.0000    NaN    0.00  0.0  0.000  0.0     NaN      NaN    NaN\n",
       "X[1,1]  -0.0130  0.017    1.00 -1.6 -0.023  1.6  3556.0    102.0    1.0\n",
       "X[1,2]  -0.0130  0.016    0.99 -1.6 -0.020  1.6  3781.0    109.0    1.0\n",
       "X[1,3]   0.0220  0.015    1.00 -1.6  0.029  1.6  4256.0    122.0    1.0\n",
       "X[2,1]   0.0029  0.016    1.00 -1.6 -0.027  1.7  3884.0    112.0    1.0\n",
       "...         ...    ...     ...  ...    ...  ...     ...      ...    ...\n",
       "y[1196] -0.0290  0.041    2.50 -4.2  0.025  4.1  3903.0    112.0    1.0\n",
       "y[1197]  0.0160  0.041    2.60 -4.1  0.039  4.3  3947.0    113.0    1.0\n",
       "y[1198] -0.0130  0.040    2.50 -4.1 -0.024  4.0  3977.0    114.0    1.0\n",
       "y[1199]  0.0019  0.040    2.50 -4.1 -0.018  4.0  3818.0    110.0    1.0\n",
       "y[1200] -0.0560  0.040    2.50 -4.2  0.002  4.1  3857.0    111.0    1.0\n",
       "\n",
       "[4804 rows x 9 columns]"
      ]
     },
     "execution_count": 9,
     "metadata": {},
     "output_type": "execute_result"
    }
   ],
   "source": [
    "result_2.summary()"
   ]
  },
  {
   "cell_type": "code",
   "execution_count": 10,
   "metadata": {},
   "outputs": [
    {
     "data": {
      "image/png": "[encoded data removed]",
      "text/plain": [
       "<Figure size 432x288 with 1 Axes>"
      ]
     },
     "metadata": {
      "needs_background": "light"
     },
     "output_type": "display_data"
    },
    {
     "data": {
      "image/png": "[encoded data removed]",
      "text/plain": [
       "<Figure size 432x288 with 1 Axes>"
      ]
     },
     "metadata": {
      "needs_background": "light"
     },
     "output_type": "display_data"
    }
   ],
   "source": [
    "y2_median=np.percentile(result_2.stan_variable('y')[:,:],50,axis=0)\n",
    "plt.plot(y2_median)\n",
    "plt.show()\n",
    "plt.hist(y2_median,bins=40)\n",
    "plt.show()"
   ]
  },
  {
   "cell_type": "code",
   "execution_count": 11,
   "metadata": {},
   "outputs": [
    {
     "data": {
      "image/png": "[encoded data removed]",
      "text/plain": [
       "<Figure size 432x288 with 1 Axes>"
      ]
     },
     "metadata": {
      "needs_background": "light"
     },
     "output_type": "display_data"
    },
    {
     "data": {
      "image/png": "[encoded data removed]",
      "text/plain": [
       "<Figure size 432x288 with 1 Axes>"
      ]
     },
     "metadata": {
      "needs_background": "light"
     },
     "output_type": "display_data"
    }
   ],
   "source": [
    "plt.plot(result_2.stan_variable('y')[100])\n",
    "plt.show()\n",
    "plt.hist(result_2.stan_variable('y')[100],bins=40)\n",
    "plt.show()"
   ]
  },
  {
   "cell_type": "code",
   "execution_count": 12,
   "metadata": {},
   "outputs": [
    {
     "name": "stderr",
     "output_type": "stream",
     "text": [
      "INFO:cmdstanpy:found newer exe file, not recompiling\n"
     ]
    }
   ],
   "source": [
    "model_3 = CmdStanModel(stan_file='code_3.stan')\n",
    "data_3_1=dict(\n",
    "    N=len(y1_median),\n",
    "    y=y1_median,\n",
    ")\n",
    "data_3_2=dict(\n",
    "    N=len(y2_median),\n",
    "    y=y2_median,\n",
    ")"
   ]
  },
  {
   "cell_type": "code",
   "execution_count": 13,
   "metadata": {},
   "outputs": [
    {
     "name": "stderr",
     "output_type": "stream",
     "text": [
      "INFO:cmdstanpy:found newer exe file, not recompiling\n"
     ]
    }
   ],
   "source": [
    "model_4 = CmdStanModel(stan_file='code_4.stan')\n",
    "data_4_1=dict(\n",
    "    N=len(y1_median),\n",
    "    y=y1_median,\n",
    ")\n",
    "data_4_2=dict(\n",
    "    N=len(y2_median),\n",
    "    y=y2_median,\n",
    ")"
   ]
  },
  {
   "cell_type": "code",
   "execution_count": 14,
   "metadata": {},
   "outputs": [
    {
     "name": "stderr",
     "output_type": "stream",
     "text": [
      "INFO:cmdstanpy:CmdStan start processing\n",
      "chain 1 |\u001b[33m          \u001b[0m| 00:00 Status\n",
      "\u001b[A\n",
      "\n",
      "chain 1 |\u001b[33m▍         \u001b[0m| 00:00 Status\n",
      "\u001b[A\n",
      "\n",
      "\u001b[A\u001b[A\n",
      "chain 1 |\u001b[33m█▊        \u001b[0m| 00:00 Iteration:  200 / 2000 [ 10%]  (Warmup)\n",
      "\u001b[A\n",
      "\n",
      "chain 1 |\u001b[33m██▋       \u001b[0m| 00:00 Iteration:  400 / 2000 [ 20%]  (Warmup)\n",
      "chain 1 |\u001b[33m█████     \u001b[0m| 00:00 Iteration:  900 / 2000 [ 45%]  (Warmup)\n",
      "\n",
      "\u001b[A\u001b[A\n",
      "\n",
      "\u001b[A\u001b[A\n",
      "chain 1 |\u001b[34m██████▎   \u001b[0m| 00:01 Iteration: 1100 / 2000 [ 55%]  (Sampling)\n",
      "\n",
      "\u001b[A\u001b[A\n",
      "chain 1 |\u001b[34m███████▎  \u001b[0m| 00:03 Iteration: 1300 / 2000 [ 65%]  (Sampling)\n",
      "\n",
      "\u001b[A\u001b[A\n",
      "chain 1 |\u001b[34m████████▏ \u001b[0m| 00:04 Iteration: 1500 / 2000 [ 75%]  (Sampling)\n",
      "\u001b[A\n",
      "\n",
      "chain 1 |\u001b[34m████████▋ \u001b[0m| 00:04 Iteration: 1600 / 2000 [ 80%]  (Sampling)\n",
      "\u001b[A\n",
      "\n",
      "chain 1 |\u001b[34m█████████ \u001b[0m| 00:05 Iteration: 1700 / 2000 [ 85%]  (Sampling)\n",
      "\u001b[A\n",
      "\n",
      "\u001b[A\u001b[A\n",
      "chain 1 |\u001b[34m█████████▌\u001b[0m| 00:05 Iteration: 1800 / 2000 [ 90%]  (Sampling)\n",
      "\n",
      "chain 1 |\u001b[34m██████████\u001b[0m| 00:05 Iteration: 1900 / 2000 [ 95%]  (Sampling)\n",
      "\u001b[A\n",
      "\n",
      "chain 1 |\u001b[34m██████████\u001b[0m| 00:06 Sampling completed                       \n",
      "chain 2 |\u001b[34m██████████\u001b[0m| 00:06 Sampling completed                       \n",
      "chain 3 |\u001b[34m██████████\u001b[0m| 00:06 Sampling completed                       \n",
      "chain 4 |\u001b[34m██████████\u001b[0m| 00:06 Sampling completed                       "
     ]
    },
    {
     "name": "stdout",
     "output_type": "stream",
     "text": [
      "                                                                                                                                                                "
     ]
    },
    {
     "name": "stderr",
     "output_type": "stream",
     "text": [
      "\n"
     ]
    },
    {
     "name": "stdout",
     "output_type": "stream",
     "text": [
      "                                                                                                                                                                "
     ]
    },
    {
     "name": "stderr",
     "output_type": "stream",
     "text": [
      "INFO:cmdstanpy:CmdStan done processing.\n"
     ]
    },
    {
     "name": "stdout",
     "output_type": "stream",
     "text": [
      "\n"
     ]
    },
    {
     "data": {
      "text/html": [
       "<div>\n",
       "<style scoped>\n",
       "    .dataframe tbody tr th:only-of-type {\n",
       "        vertical-align: middle;\n",
       "    }\n",
       "\n",
       "    .dataframe tbody tr th {\n",
       "        vertical-align: top;\n",
       "    }\n",
       "\n",
       "    .dataframe thead th {\n",
       "        text-align: right;\n",
       "    }\n",
       "</style>\n",
       "<table border=\"1\" class=\"dataframe\">\n",
       "  <thead>\n",
       "    <tr style=\"text-align: right;\">\n",
       "      <th></th>\n",
       "      <th>Mean</th>\n",
       "      <th>MCSE</th>\n",
       "      <th>StdDev</th>\n",
       "      <th>5%</th>\n",
       "      <th>50%</th>\n",
       "      <th>95%</th>\n",
       "      <th>N_Eff</th>\n",
       "      <th>N_Eff/s</th>\n",
       "      <th>R_hat</th>\n",
       "    </tr>\n",
       "    <tr>\n",
       "      <th>name</th>\n",
       "      <th></th>\n",
       "      <th></th>\n",
       "      <th></th>\n",
       "      <th></th>\n",
       "      <th></th>\n",
       "      <th></th>\n",
       "      <th></th>\n",
       "      <th></th>\n",
       "      <th></th>\n",
       "    </tr>\n",
       "  </thead>\n",
       "  <tbody>\n",
       "    <tr>\n",
       "      <th>lp__</th>\n",
       "      <td>3000.0000</td>\n",
       "      <td>0.029000</td>\n",
       "      <td>0.99000</td>\n",
       "      <td>3000.0000</td>\n",
       "      <td>3000.0000</td>\n",
       "      <td>3000.000</td>\n",
       "      <td>1200.0</td>\n",
       "      <td>56.0</td>\n",
       "      <td>1.0</td>\n",
       "    </tr>\n",
       "    <tr>\n",
       "      <th>sigma</th>\n",
       "      <td>0.0200</td>\n",
       "      <td>0.000015</td>\n",
       "      <td>0.00040</td>\n",
       "      <td>0.0190</td>\n",
       "      <td>0.0200</td>\n",
       "      <td>0.021</td>\n",
       "      <td>750.0</td>\n",
       "      <td>35.0</td>\n",
       "      <td>1.0</td>\n",
       "    </tr>\n",
       "    <tr>\n",
       "      <th>mu</th>\n",
       "      <td>0.0091</td>\n",
       "      <td>0.000009</td>\n",
       "      <td>0.00059</td>\n",
       "      <td>0.0081</td>\n",
       "      <td>0.0091</td>\n",
       "      <td>0.010</td>\n",
       "      <td>4300.0</td>\n",
       "      <td>200.0</td>\n",
       "      <td>1.0</td>\n",
       "    </tr>\n",
       "    <tr>\n",
       "      <th>log_lik[1]</th>\n",
       "      <td>0.9400</td>\n",
       "      <td>0.002400</td>\n",
       "      <td>0.08600</td>\n",
       "      <td>0.8000</td>\n",
       "      <td>0.9400</td>\n",
       "      <td>1.100</td>\n",
       "      <td>1247.0</td>\n",
       "      <td>59.0</td>\n",
       "      <td>1.0</td>\n",
       "    </tr>\n",
       "    <tr>\n",
       "      <th>log_lik[2]</th>\n",
       "      <td>2.8000</td>\n",
       "      <td>0.000550</td>\n",
       "      <td>0.02100</td>\n",
       "      <td>2.8000</td>\n",
       "      <td>2.8000</td>\n",
       "      <td>2.900</td>\n",
       "      <td>1494.0</td>\n",
       "      <td>70.0</td>\n",
       "      <td>1.0</td>\n",
       "    </tr>\n",
       "    <tr>\n",
       "      <th>...</th>\n",
       "      <td>...</td>\n",
       "      <td>...</td>\n",
       "      <td>...</td>\n",
       "      <td>...</td>\n",
       "      <td>...</td>\n",
       "      <td>...</td>\n",
       "      <td>...</td>\n",
       "      <td>...</td>\n",
       "      <td>...</td>\n",
       "    </tr>\n",
       "    <tr>\n",
       "      <th>y_hat[1196]</th>\n",
       "      <td>0.0095</td>\n",
       "      <td>0.000330</td>\n",
       "      <td>0.02000</td>\n",
       "      <td>-0.0240</td>\n",
       "      <td>0.0096</td>\n",
       "      <td>0.043</td>\n",
       "      <td>3797.0</td>\n",
       "      <td>178.0</td>\n",
       "      <td>1.0</td>\n",
       "    </tr>\n",
       "    <tr>\n",
       "      <th>y_hat[1197]</th>\n",
       "      <td>0.0090</td>\n",
       "      <td>0.000310</td>\n",
       "      <td>0.02000</td>\n",
       "      <td>-0.0250</td>\n",
       "      <td>0.0092</td>\n",
       "      <td>0.042</td>\n",
       "      <td>4261.0</td>\n",
       "      <td>200.0</td>\n",
       "      <td>1.0</td>\n",
       "    </tr>\n",
       "    <tr>\n",
       "      <th>y_hat[1198]</th>\n",
       "      <td>0.0095</td>\n",
       "      <td>0.000310</td>\n",
       "      <td>0.02000</td>\n",
       "      <td>-0.0230</td>\n",
       "      <td>0.0097</td>\n",
       "      <td>0.043</td>\n",
       "      <td>4307.0</td>\n",
       "      <td>202.0</td>\n",
       "      <td>1.0</td>\n",
       "    </tr>\n",
       "    <tr>\n",
       "      <th>y_hat[1199]</th>\n",
       "      <td>0.0088</td>\n",
       "      <td>0.000310</td>\n",
       "      <td>0.02000</td>\n",
       "      <td>-0.0240</td>\n",
       "      <td>0.0088</td>\n",
       "      <td>0.041</td>\n",
       "      <td>4049.0</td>\n",
       "      <td>190.0</td>\n",
       "      <td>1.0</td>\n",
       "    </tr>\n",
       "    <tr>\n",
       "      <th>y_hat[1200]</th>\n",
       "      <td>0.0090</td>\n",
       "      <td>0.000330</td>\n",
       "      <td>0.02000</td>\n",
       "      <td>-0.0240</td>\n",
       "      <td>0.0088</td>\n",
       "      <td>0.043</td>\n",
       "      <td>3710.0</td>\n",
       "      <td>174.0</td>\n",
       "      <td>1.0</td>\n",
       "    </tr>\n",
       "  </tbody>\n",
       "</table>\n",
       "<p>2403 rows × 9 columns</p>\n",
       "</div>"
      ],
      "text/plain": [
       "                  Mean      MCSE   StdDev         5%        50%       95%  \\\n",
       "name                                                                        \n",
       "lp__         3000.0000  0.029000  0.99000  3000.0000  3000.0000  3000.000   \n",
       "sigma           0.0200  0.000015  0.00040     0.0190     0.0200     0.021   \n",
       "mu              0.0091  0.000009  0.00059     0.0081     0.0091     0.010   \n",
       "log_lik[1]      0.9400  0.002400  0.08600     0.8000     0.9400     1.100   \n",
       "log_lik[2]      2.8000  0.000550  0.02100     2.8000     2.8000     2.900   \n",
       "...                ...       ...      ...        ...        ...       ...   \n",
       "y_hat[1196]     0.0095  0.000330  0.02000    -0.0240     0.0096     0.043   \n",
       "y_hat[1197]     0.0090  0.000310  0.02000    -0.0250     0.0092     0.042   \n",
       "y_hat[1198]     0.0095  0.000310  0.02000    -0.0230     0.0097     0.043   \n",
       "y_hat[1199]     0.0088  0.000310  0.02000    -0.0240     0.0088     0.041   \n",
       "y_hat[1200]     0.0090  0.000330  0.02000    -0.0240     0.0088     0.043   \n",
       "\n",
       "              N_Eff  N_Eff/s  R_hat  \n",
       "name                                 \n",
       "lp__         1200.0     56.0    1.0  \n",
       "sigma         750.0     35.0    1.0  \n",
       "mu           4300.0    200.0    1.0  \n",
       "log_lik[1]   1247.0     59.0    1.0  \n",
       "log_lik[2]   1494.0     70.0    1.0  \n",
       "...             ...      ...    ...  \n",
       "y_hat[1196]  3797.0    178.0    1.0  \n",
       "y_hat[1197]  4261.0    200.0    1.0  \n",
       "y_hat[1198]  4307.0    202.0    1.0  \n",
       "y_hat[1199]  4049.0    190.0    1.0  \n",
       "y_hat[1200]  3710.0    174.0    1.0  \n",
       "\n",
       "[2403 rows x 9 columns]"
      ]
     },
     "execution_count": 14,
     "metadata": {},
     "output_type": "execute_result"
    }
   ],
   "source": [
    "result_3_1 = model_3.sample(data=data_3_1, chains = 4)\n",
    "result_3_1.summary()"
   ]
  },
  {
   "cell_type": "code",
   "execution_count": 15,
   "metadata": {},
   "outputs": [
    {
     "name": "stderr",
     "output_type": "stream",
     "text": [
      "INFO:cmdstanpy:CmdStan start processing\n",
      "chain 1 |\u001b[33m          \u001b[0m| 00:00 Status\n",
      "\u001b[A\n",
      "\n",
      "chain 1 |\u001b[33m█▎        \u001b[0m| 00:00 Iteration:  100 / 2000 [  5%]  (Warmup)\n",
      "\u001b[A\n",
      "\n",
      "\u001b[A\u001b[A\n",
      "chain 1 |\u001b[33m████▌     \u001b[0m| 00:00 Iteration:  800 / 2000 [ 40%]  (Warmup)\n",
      "\n",
      "\u001b[A\u001b[A\n",
      "\n",
      "chain 1 |\u001b[34m██████▎   \u001b[0m| 00:01 Iteration: 1100 / 2000 [ 55%]  (Sampling)\n",
      "\n",
      "\u001b[A\u001b[A\n",
      "chain 1 |\u001b[34m███████▋  \u001b[0m| 00:02 Iteration: 1400 / 2000 [ 70%]  (Sampling)\n",
      "\n",
      "\u001b[A\u001b[A\n",
      "\n",
      "\u001b[A\u001b[A\n",
      "chain 1 |\u001b[34m████████▋ \u001b[0m| 00:02 Iteration: 1600 / 2000 [ 80%]  (Sampling)\n",
      "\n",
      "\u001b[A\u001b[A\n",
      "\n",
      "\u001b[A\u001b[A\n",
      "chain 1 |\u001b[34m█████████▌\u001b[0m| 00:03 Iteration: 1800 / 2000 [ 90%]  (Sampling)\n",
      "\n",
      "chain 1 |\u001b[34m██████████\u001b[0m| 00:03 Sampling completed                       \n",
      "chain 2 |\u001b[34m██████████\u001b[0m| 00:03 Sampling completed                       \n",
      "chain 3 |\u001b[34m██████████\u001b[0m| 00:03 Sampling completed                       \n",
      "chain 4 |\u001b[34m██████████\u001b[0m| 00:03 Sampling completed                       "
     ]
    },
    {
     "name": "stdout",
     "output_type": "stream",
     "text": [
      "                                                                                                                                                                                                                                                                                                                                "
     ]
    },
    {
     "name": "stderr",
     "output_type": "stream",
     "text": [
      "\n",
      "INFO:cmdstanpy:CmdStan done processing.\n"
     ]
    },
    {
     "name": "stdout",
     "output_type": "stream",
     "text": [
      "\n"
     ]
    },
    {
     "data": {
      "text/html": [
       "<div>\n",
       "<style scoped>\n",
       "    .dataframe tbody tr th:only-of-type {\n",
       "        vertical-align: middle;\n",
       "    }\n",
       "\n",
       "    .dataframe tbody tr th {\n",
       "        vertical-align: top;\n",
       "    }\n",
       "\n",
       "    .dataframe thead th {\n",
       "        text-align: right;\n",
       "    }\n",
       "</style>\n",
       "<table border=\"1\" class=\"dataframe\">\n",
       "  <thead>\n",
       "    <tr style=\"text-align: right;\">\n",
       "      <th></th>\n",
       "      <th>Mean</th>\n",
       "      <th>MCSE</th>\n",
       "      <th>StdDev</th>\n",
       "      <th>5%</th>\n",
       "      <th>50%</th>\n",
       "      <th>95%</th>\n",
       "      <th>N_Eff</th>\n",
       "      <th>N_Eff/s</th>\n",
       "      <th>R_hat</th>\n",
       "    </tr>\n",
       "    <tr>\n",
       "      <th>name</th>\n",
       "      <th></th>\n",
       "      <th></th>\n",
       "      <th></th>\n",
       "      <th></th>\n",
       "      <th></th>\n",
       "      <th></th>\n",
       "      <th></th>\n",
       "      <th></th>\n",
       "      <th></th>\n",
       "    </tr>\n",
       "  </thead>\n",
       "  <tbody>\n",
       "    <tr>\n",
       "      <th>lp__</th>\n",
       "      <td>1900.00000</td>\n",
       "      <td>0.025000</td>\n",
       "      <td>1.0000</td>\n",
       "      <td>1900.0000</td>\n",
       "      <td>1900.000000</td>\n",
       "      <td>1900.0000</td>\n",
       "      <td>1600.0</td>\n",
       "      <td>120.0</td>\n",
       "      <td>1.0</td>\n",
       "    </tr>\n",
       "    <tr>\n",
       "      <th>sigma</th>\n",
       "      <td>0.05000</td>\n",
       "      <td>0.000032</td>\n",
       "      <td>0.0010</td>\n",
       "      <td>0.0480</td>\n",
       "      <td>0.050000</td>\n",
       "      <td>0.0520</td>\n",
       "      <td>1000.0</td>\n",
       "      <td>77.0</td>\n",
       "      <td>1.0</td>\n",
       "    </tr>\n",
       "    <tr>\n",
       "      <th>mu</th>\n",
       "      <td>0.00120</td>\n",
       "      <td>0.000023</td>\n",
       "      <td>0.0014</td>\n",
       "      <td>-0.0012</td>\n",
       "      <td>0.001200</td>\n",
       "      <td>0.0036</td>\n",
       "      <td>4100.0</td>\n",
       "      <td>310.0</td>\n",
       "      <td>1.0</td>\n",
       "    </tr>\n",
       "    <tr>\n",
       "      <th>log_lik[1]</th>\n",
       "      <td>1.80000</td>\n",
       "      <td>0.000440</td>\n",
       "      <td>0.0220</td>\n",
       "      <td>1.8000</td>\n",
       "      <td>1.800000</td>\n",
       "      <td>1.9000</td>\n",
       "      <td>2619.0</td>\n",
       "      <td>199.0</td>\n",
       "      <td>1.0</td>\n",
       "    </tr>\n",
       "    <tr>\n",
       "      <th>log_lik[2]</th>\n",
       "      <td>1.90000</td>\n",
       "      <td>0.000460</td>\n",
       "      <td>0.0220</td>\n",
       "      <td>1.8000</td>\n",
       "      <td>1.900000</td>\n",
       "      <td>1.9000</td>\n",
       "      <td>2347.0</td>\n",
       "      <td>178.0</td>\n",
       "      <td>1.0</td>\n",
       "    </tr>\n",
       "    <tr>\n",
       "      <th>...</th>\n",
       "      <td>...</td>\n",
       "      <td>...</td>\n",
       "      <td>...</td>\n",
       "      <td>...</td>\n",
       "      <td>...</td>\n",
       "      <td>...</td>\n",
       "      <td>...</td>\n",
       "      <td>...</td>\n",
       "      <td>...</td>\n",
       "    </tr>\n",
       "    <tr>\n",
       "      <th>y_hat[1196]</th>\n",
       "      <td>0.00082</td>\n",
       "      <td>0.000780</td>\n",
       "      <td>0.0490</td>\n",
       "      <td>-0.0790</td>\n",
       "      <td>-0.000180</td>\n",
       "      <td>0.0800</td>\n",
       "      <td>3843.0</td>\n",
       "      <td>292.0</td>\n",
       "      <td>1.0</td>\n",
       "    </tr>\n",
       "    <tr>\n",
       "      <th>y_hat[1197]</th>\n",
       "      <td>0.00038</td>\n",
       "      <td>0.000770</td>\n",
       "      <td>0.0490</td>\n",
       "      <td>-0.0800</td>\n",
       "      <td>-0.000014</td>\n",
       "      <td>0.0830</td>\n",
       "      <td>4104.0</td>\n",
       "      <td>312.0</td>\n",
       "      <td>1.0</td>\n",
       "    </tr>\n",
       "    <tr>\n",
       "      <th>y_hat[1198]</th>\n",
       "      <td>0.00120</td>\n",
       "      <td>0.000780</td>\n",
       "      <td>0.0500</td>\n",
       "      <td>-0.0800</td>\n",
       "      <td>0.000240</td>\n",
       "      <td>0.0840</td>\n",
       "      <td>4152.0</td>\n",
       "      <td>316.0</td>\n",
       "      <td>1.0</td>\n",
       "    </tr>\n",
       "    <tr>\n",
       "      <th>y_hat[1199]</th>\n",
       "      <td>0.00052</td>\n",
       "      <td>0.000800</td>\n",
       "      <td>0.0490</td>\n",
       "      <td>-0.0790</td>\n",
       "      <td>-0.000200</td>\n",
       "      <td>0.0810</td>\n",
       "      <td>3724.0</td>\n",
       "      <td>283.0</td>\n",
       "      <td>1.0</td>\n",
       "    </tr>\n",
       "    <tr>\n",
       "      <th>y_hat[1200]</th>\n",
       "      <td>0.00190</td>\n",
       "      <td>0.000770</td>\n",
       "      <td>0.0500</td>\n",
       "      <td>-0.0790</td>\n",
       "      <td>0.001900</td>\n",
       "      <td>0.0830</td>\n",
       "      <td>4140.0</td>\n",
       "      <td>315.0</td>\n",
       "      <td>1.0</td>\n",
       "    </tr>\n",
       "  </tbody>\n",
       "</table>\n",
       "<p>2403 rows × 9 columns</p>\n",
       "</div>"
      ],
      "text/plain": [
       "                   Mean      MCSE  StdDev         5%          50%        95%  \\\n",
       "name                                                                           \n",
       "lp__         1900.00000  0.025000  1.0000  1900.0000  1900.000000  1900.0000   \n",
       "sigma           0.05000  0.000032  0.0010     0.0480     0.050000     0.0520   \n",
       "mu              0.00120  0.000023  0.0014    -0.0012     0.001200     0.0036   \n",
       "log_lik[1]      1.80000  0.000440  0.0220     1.8000     1.800000     1.9000   \n",
       "log_lik[2]      1.90000  0.000460  0.0220     1.8000     1.900000     1.9000   \n",
       "...                 ...       ...     ...        ...          ...        ...   \n",
       "y_hat[1196]     0.00082  0.000780  0.0490    -0.0790    -0.000180     0.0800   \n",
       "y_hat[1197]     0.00038  0.000770  0.0490    -0.0800    -0.000014     0.0830   \n",
       "y_hat[1198]     0.00120  0.000780  0.0500    -0.0800     0.000240     0.0840   \n",
       "y_hat[1199]     0.00052  0.000800  0.0490    -0.0790    -0.000200     0.0810   \n",
       "y_hat[1200]     0.00190  0.000770  0.0500    -0.0790     0.001900     0.0830   \n",
       "\n",
       "              N_Eff  N_Eff/s  R_hat  \n",
       "name                                 \n",
       "lp__         1600.0    120.0    1.0  \n",
       "sigma        1000.0     77.0    1.0  \n",
       "mu           4100.0    310.0    1.0  \n",
       "log_lik[1]   2619.0    199.0    1.0  \n",
       "log_lik[2]   2347.0    178.0    1.0  \n",
       "...             ...      ...    ...  \n",
       "y_hat[1196]  3843.0    292.0    1.0  \n",
       "y_hat[1197]  4104.0    312.0    1.0  \n",
       "y_hat[1198]  4152.0    316.0    1.0  \n",
       "y_hat[1199]  3724.0    283.0    1.0  \n",
       "y_hat[1200]  4140.0    315.0    1.0  \n",
       "\n",
       "[2403 rows x 9 columns]"
      ]
     },
     "execution_count": 15,
     "metadata": {},
     "output_type": "execute_result"
    }
   ],
   "source": [
    "result_3_2 = model_3.sample(data=data_3_2, chains = 4)\n",
    "result_3_2.summary()"
   ]
  },
  {
   "cell_type": "code",
   "execution_count": 16,
   "metadata": {},
   "outputs": [
    {
     "name": "stderr",
     "output_type": "stream",
     "text": [
      "INFO:cmdstanpy:CmdStan start processing\n",
      "chain 1 |\u001b[33m          \u001b[0m| 00:00 Status\n",
      "\u001b[A\n",
      "\n",
      "chain 1 |\u001b[33m▉         \u001b[0m| 00:00 Iteration:    1 / 2000 [  0%]  (Warmup)\n",
      "\u001b[A\n",
      "\n",
      "\u001b[A\u001b[A\n",
      "\n",
      "\u001b[A\u001b[A\n",
      "\n",
      "\u001b[A\u001b[A\n",
      "chain 1 |\u001b[33m█▊        \u001b[0m| 00:01 Iteration:  200 / 2000 [ 10%]  (Warmup)\n",
      "\n",
      "chain 1 |\u001b[33m██▎       \u001b[0m| 00:01 Iteration:  300 / 2000 [ 15%]  (Warmup)\n",
      "\n",
      "\u001b[A\u001b[A\n",
      "\u001b[A\n",
      "\n",
      "chain 1 |\u001b[33m██▋       \u001b[0m| 00:01 Iteration:  400 / 2000 [ 20%]  (Warmup)\n",
      "\u001b[A\n",
      "\n",
      "chain 1 |\u001b[33m███▏      \u001b[0m| 00:01 Iteration:  500 / 2000 [ 25%]  (Warmup)\n",
      "\u001b[A\n",
      "\n",
      "chain 1 |\u001b[33m███▋      \u001b[0m| 00:02 Iteration:  600 / 2000 [ 30%]  (Warmup)\n",
      "\u001b[A\n",
      "\n",
      "\u001b[A\u001b[A\n",
      "\u001b[A\n",
      "\n",
      "chain 1 |\u001b[33m████▌     \u001b[0m| 00:02 Iteration:  800 / 2000 [ 40%]  (Warmup)\n",
      "chain 1 |\u001b[33m█████     \u001b[0m| 00:02 Iteration:  900 / 2000 [ 45%]  (Warmup)\n",
      "\u001b[A\n",
      "\n",
      "chain 1 |\u001b[34m█████▉    \u001b[0m| 00:03 Iteration: 1001 / 2000 [ 50%]  (Sampling)\n",
      "\u001b[A\n",
      "\n",
      "chain 1 |\u001b[34m██████▎   \u001b[0m| 00:03 Iteration: 1100 / 2000 [ 55%]  (Sampling)\n",
      "\u001b[A\n",
      "\n",
      "chain 1 |\u001b[34m██████▊   \u001b[0m| 00:04 Iteration: 1200 / 2000 [ 60%]  (Sampling)\n",
      "\u001b[A\n",
      "\n",
      "chain 1 |\u001b[34m███████▎  \u001b[0m| 00:04 Iteration: 1300 / 2000 [ 65%]  (Sampling)\n",
      "\u001b[A\n",
      "\n",
      "chain 1 |\u001b[34m███████▋  \u001b[0m| 00:05 Iteration: 1400 / 2000 [ 70%]  (Sampling)\n",
      "\u001b[A\n",
      "\n",
      "chain 1 |\u001b[34m████████▏ \u001b[0m| 00:06 Iteration: 1500 / 2000 [ 75%]  (Sampling)\n",
      "\u001b[A\n",
      "\n",
      "chain 1 |\u001b[34m████████▋ \u001b[0m| 00:07 Iteration: 1600 / 2000 [ 80%]  (Sampling)\n",
      "\u001b[A\n",
      "\n",
      "chain 1 |\u001b[34m█████████ \u001b[0m| 00:08 Iteration: 1700 / 2000 [ 85%]  (Sampling)\n",
      "\u001b[A\n",
      "\n",
      "chain 1 |\u001b[34m█████████▌\u001b[0m| 00:08 Iteration: 1800 / 2000 [ 90%]  (Sampling)\n",
      "\u001b[A\n",
      "\n",
      "chain 1 |\u001b[34m██████████\u001b[0m| 00:09 Iteration: 1900 / 2000 [ 95%]  (Sampling)\n",
      "chain 1 |\u001b[34m██████████\u001b[0m| 00:09 Sampling completed                       \n",
      "chain 2 |\u001b[34m██████████\u001b[0m| 00:09 Sampling completed                       \n",
      "chain 3 |\u001b[34m██████████\u001b[0m| 00:09 Sampling completed                       \n",
      "chain 4 |\u001b[34m██████████\u001b[0m| 00:09 Sampling completed                       "
     ]
    },
    {
     "name": "stdout",
     "output_type": "stream",
     "text": [
      "                                                                                                                                                                                                                                                                                                                                "
     ]
    },
    {
     "name": "stderr",
     "output_type": "stream",
     "text": [
      "\n",
      "INFO:cmdstanpy:CmdStan done processing.\n"
     ]
    },
    {
     "name": "stdout",
     "output_type": "stream",
     "text": [
      "\n"
     ]
    },
    {
     "data": {
      "text/html": [
       "<div>\n",
       "<style scoped>\n",
       "    .dataframe tbody tr th:only-of-type {\n",
       "        vertical-align: middle;\n",
       "    }\n",
       "\n",
       "    .dataframe tbody tr th {\n",
       "        vertical-align: top;\n",
       "    }\n",
       "\n",
       "    .dataframe thead th {\n",
       "        text-align: right;\n",
       "    }\n",
       "</style>\n",
       "<table border=\"1\" class=\"dataframe\">\n",
       "  <thead>\n",
       "    <tr style=\"text-align: right;\">\n",
       "      <th></th>\n",
       "      <th>Mean</th>\n",
       "      <th>MCSE</th>\n",
       "      <th>StdDev</th>\n",
       "      <th>5%</th>\n",
       "      <th>50%</th>\n",
       "      <th>95%</th>\n",
       "      <th>N_Eff</th>\n",
       "      <th>N_Eff/s</th>\n",
       "      <th>R_hat</th>\n",
       "    </tr>\n",
       "    <tr>\n",
       "      <th>name</th>\n",
       "      <th></th>\n",
       "      <th></th>\n",
       "      <th></th>\n",
       "      <th></th>\n",
       "      <th></th>\n",
       "      <th></th>\n",
       "      <th></th>\n",
       "      <th></th>\n",
       "      <th></th>\n",
       "    </tr>\n",
       "  </thead>\n",
       "  <tbody>\n",
       "    <tr>\n",
       "      <th>lp__</th>\n",
       "      <td>3000.0000</td>\n",
       "      <td>0.034000</td>\n",
       "      <td>1.30000</td>\n",
       "      <td>3000.0000</td>\n",
       "      <td>3000.0000</td>\n",
       "      <td>3000.000</td>\n",
       "      <td>1400.0</td>\n",
       "      <td>48.0</td>\n",
       "      <td>1.0</td>\n",
       "    </tr>\n",
       "    <tr>\n",
       "      <th>sigma</th>\n",
       "      <td>0.0190</td>\n",
       "      <td>0.000014</td>\n",
       "      <td>0.00047</td>\n",
       "      <td>0.0190</td>\n",
       "      <td>0.0190</td>\n",
       "      <td>0.020</td>\n",
       "      <td>1200.0</td>\n",
       "      <td>42.0</td>\n",
       "      <td>1.0</td>\n",
       "    </tr>\n",
       "    <tr>\n",
       "      <th>mu</th>\n",
       "      <td>0.0091</td>\n",
       "      <td>0.000008</td>\n",
       "      <td>0.00059</td>\n",
       "      <td>0.0081</td>\n",
       "      <td>0.0091</td>\n",
       "      <td>0.010</td>\n",
       "      <td>5200.0</td>\n",
       "      <td>180.0</td>\n",
       "      <td>1.0</td>\n",
       "    </tr>\n",
       "    <tr>\n",
       "      <th>nu</th>\n",
       "      <td>35.0000</td>\n",
       "      <td>0.410000</td>\n",
       "      <td>14.00000</td>\n",
       "      <td>18.0000</td>\n",
       "      <td>33.0000</td>\n",
       "      <td>63.000</td>\n",
       "      <td>1200.0</td>\n",
       "      <td>43.0</td>\n",
       "      <td>1.0</td>\n",
       "    </tr>\n",
       "    <tr>\n",
       "      <th>log_lik[1]</th>\n",
       "      <td>0.9100</td>\n",
       "      <td>0.001900</td>\n",
       "      <td>0.08600</td>\n",
       "      <td>0.7600</td>\n",
       "      <td>0.9100</td>\n",
       "      <td>1.000</td>\n",
       "      <td>2169.0</td>\n",
       "      <td>76.0</td>\n",
       "      <td>1.0</td>\n",
       "    </tr>\n",
       "    <tr>\n",
       "      <th>...</th>\n",
       "      <td>...</td>\n",
       "      <td>...</td>\n",
       "      <td>...</td>\n",
       "      <td>...</td>\n",
       "      <td>...</td>\n",
       "      <td>...</td>\n",
       "      <td>...</td>\n",
       "      <td>...</td>\n",
       "      <td>...</td>\n",
       "    </tr>\n",
       "    <tr>\n",
       "      <th>y_hat[1196]</th>\n",
       "      <td>0.0096</td>\n",
       "      <td>0.000330</td>\n",
       "      <td>0.02000</td>\n",
       "      <td>-0.0220</td>\n",
       "      <td>0.0095</td>\n",
       "      <td>0.042</td>\n",
       "      <td>3609.0</td>\n",
       "      <td>126.0</td>\n",
       "      <td>1.0</td>\n",
       "    </tr>\n",
       "    <tr>\n",
       "      <th>y_hat[1197]</th>\n",
       "      <td>0.0099</td>\n",
       "      <td>0.000310</td>\n",
       "      <td>0.02000</td>\n",
       "      <td>-0.0230</td>\n",
       "      <td>0.0100</td>\n",
       "      <td>0.043</td>\n",
       "      <td>4167.0</td>\n",
       "      <td>145.0</td>\n",
       "      <td>1.0</td>\n",
       "    </tr>\n",
       "    <tr>\n",
       "      <th>y_hat[1198]</th>\n",
       "      <td>0.0089</td>\n",
       "      <td>0.000310</td>\n",
       "      <td>0.02000</td>\n",
       "      <td>-0.0240</td>\n",
       "      <td>0.0087</td>\n",
       "      <td>0.042</td>\n",
       "      <td>4103.0</td>\n",
       "      <td>143.0</td>\n",
       "      <td>1.0</td>\n",
       "    </tr>\n",
       "    <tr>\n",
       "      <th>y_hat[1199]</th>\n",
       "      <td>0.0088</td>\n",
       "      <td>0.000320</td>\n",
       "      <td>0.02000</td>\n",
       "      <td>-0.0250</td>\n",
       "      <td>0.0086</td>\n",
       "      <td>0.042</td>\n",
       "      <td>3864.0</td>\n",
       "      <td>135.0</td>\n",
       "      <td>1.0</td>\n",
       "    </tr>\n",
       "    <tr>\n",
       "      <th>y_hat[1200]</th>\n",
       "      <td>0.0089</td>\n",
       "      <td>0.000320</td>\n",
       "      <td>0.02000</td>\n",
       "      <td>-0.0240</td>\n",
       "      <td>0.0090</td>\n",
       "      <td>0.041</td>\n",
       "      <td>3906.0</td>\n",
       "      <td>136.0</td>\n",
       "      <td>1.0</td>\n",
       "    </tr>\n",
       "  </tbody>\n",
       "</table>\n",
       "<p>2404 rows × 9 columns</p>\n",
       "</div>"
      ],
      "text/plain": [
       "                  Mean      MCSE    StdDev         5%        50%       95%  \\\n",
       "name                                                                         \n",
       "lp__         3000.0000  0.034000   1.30000  3000.0000  3000.0000  3000.000   \n",
       "sigma           0.0190  0.000014   0.00047     0.0190     0.0190     0.020   \n",
       "mu              0.0091  0.000008   0.00059     0.0081     0.0091     0.010   \n",
       "nu             35.0000  0.410000  14.00000    18.0000    33.0000    63.000   \n",
       "log_lik[1]      0.9100  0.001900   0.08600     0.7600     0.9100     1.000   \n",
       "...                ...       ...       ...        ...        ...       ...   \n",
       "y_hat[1196]     0.0096  0.000330   0.02000    -0.0220     0.0095     0.042   \n",
       "y_hat[1197]     0.0099  0.000310   0.02000    -0.0230     0.0100     0.043   \n",
       "y_hat[1198]     0.0089  0.000310   0.02000    -0.0240     0.0087     0.042   \n",
       "y_hat[1199]     0.0088  0.000320   0.02000    -0.0250     0.0086     0.042   \n",
       "y_hat[1200]     0.0089  0.000320   0.02000    -0.0240     0.0090     0.041   \n",
       "\n",
       "              N_Eff  N_Eff/s  R_hat  \n",
       "name                                 \n",
       "lp__         1400.0     48.0    1.0  \n",
       "sigma        1200.0     42.0    1.0  \n",
       "mu           5200.0    180.0    1.0  \n",
       "nu           1200.0     43.0    1.0  \n",
       "log_lik[1]   2169.0     76.0    1.0  \n",
       "...             ...      ...    ...  \n",
       "y_hat[1196]  3609.0    126.0    1.0  \n",
       "y_hat[1197]  4167.0    145.0    1.0  \n",
       "y_hat[1198]  4103.0    143.0    1.0  \n",
       "y_hat[1199]  3864.0    135.0    1.0  \n",
       "y_hat[1200]  3906.0    136.0    1.0  \n",
       "\n",
       "[2404 rows x 9 columns]"
      ]
     },
     "execution_count": 16,
     "metadata": {},
     "output_type": "execute_result"
    }
   ],
   "source": [
    "result_4_1 = model_4.sample(data=data_4_1, chains = 4)\n",
    "result_4_1.summary()"
   ]
  },
  {
   "cell_type": "code",
   "execution_count": 17,
   "metadata": {},
   "outputs": [
    {
     "name": "stderr",
     "output_type": "stream",
     "text": [
      "INFO:cmdstanpy:CmdStan start processing\n",
      "chain 1 |\u001b[33m          \u001b[0m| 00:00 Status\n",
      "\u001b[A\n",
      "\n",
      "chain 1 |\u001b[33m▍         \u001b[0m| 00:00 Status\n",
      "\n",
      "\u001b[A\u001b[A\n",
      "\u001b[A\n",
      "\n",
      "\u001b[A\u001b[A\n",
      "\u001b[A\n",
      "\n",
      "\u001b[A\u001b[A\n",
      "chain 1 |\u001b[33m▉         \u001b[0m| 00:00 Iteration:    1 / 2000 [  0%]  (Warmup)\n",
      "\n",
      "\u001b[A\u001b[A\n",
      "\u001b[A\n",
      "\n",
      "\u001b[A\u001b[A\n",
      "\u001b[A\n",
      "\u001b[A\n",
      "\n",
      "chain 1 |\u001b[33m█▊        \u001b[0m| 00:01 Iteration:  200 / 2000 [ 10%]  (Warmup)\n",
      "\u001b[A\n",
      "\n",
      "\u001b[A\u001b[A\n",
      "\u001b[A\n",
      "\n",
      "chain 1 |\u001b[33m██▎       \u001b[0m| 00:01 Iteration:  300 / 2000 [ 15%]  (Warmup)\n",
      "\u001b[A\n",
      "\n",
      "chain 1 |\u001b[33m█████     \u001b[0m| 00:02 Iteration:  900 / 2000 [ 45%]  (Warmup)\n",
      "\u001b[A\n",
      "\n",
      "chain 1 |\u001b[34m█████▉    \u001b[0m| 00:03 Iteration: 1001 / 2000 [ 50%]  (Sampling)\n",
      "\u001b[A\n",
      "\n",
      "chain 1 |\u001b[34m██████▎   \u001b[0m| 00:04 Iteration: 1100 / 2000 [ 55%]  (Sampling)\n",
      "\u001b[A\n",
      "\n",
      "chain 1 |\u001b[34m██████▊   \u001b[0m| 00:04 Iteration: 1200 / 2000 [ 60%]  (Sampling)\n",
      "\u001b[A\n",
      "\n",
      "chain 1 |\u001b[34m███████▎  \u001b[0m| 00:05 Iteration: 1300 / 2000 [ 65%]  (Sampling)\n",
      "\u001b[A\n",
      "\n",
      "chain 1 |\u001b[34m███████▋  \u001b[0m| 00:05 Iteration: 1400 / 2000 [ 70%]  (Sampling)\n",
      "\u001b[A\n",
      "\n",
      "chain 1 |\u001b[34m████████▏ \u001b[0m| 00:06 Iteration: 1500 / 2000 [ 75%]  (Sampling)\n",
      "\u001b[A\n",
      "\n",
      "chain 1 |\u001b[34m████████▋ \u001b[0m| 00:07 Iteration: 1600 / 2000 [ 80%]  (Sampling)\n",
      "\u001b[A\n",
      "\n",
      "chain 1 |\u001b[34m█████████ \u001b[0m| 00:08 Iteration: 1700 / 2000 [ 85%]  (Sampling)\n",
      "\u001b[A\n",
      "\n",
      "chain 1 |\u001b[34m█████████▌\u001b[0m| 00:09 Iteration: 1800 / 2000 [ 90%]  (Sampling)\n",
      "\u001b[A\n",
      "\n",
      "chain 1 |\u001b[34m██████████\u001b[0m| 00:10 Sampling completed                       \n",
      "chain 2 |\u001b[34m██████████\u001b[0m| 00:10 Sampling completed                       \n",
      "chain 3 |\u001b[34m██████████\u001b[0m| 00:10 Sampling completed                       \n",
      "chain 4 |\u001b[34m██████████\u001b[0m| 00:10 Sampling completed                       "
     ]
    },
    {
     "name": "stdout",
     "output_type": "stream",
     "text": [
      "                                                                                                                                                                                                                                                                                                                                "
     ]
    },
    {
     "name": "stderr",
     "output_type": "stream",
     "text": [
      "\n",
      "INFO:cmdstanpy:CmdStan done processing.\n"
     ]
    },
    {
     "name": "stdout",
     "output_type": "stream",
     "text": [
      "\n"
     ]
    },
    {
     "data": {
      "text/html": [
       "<div>\n",
       "<style scoped>\n",
       "    .dataframe tbody tr th:only-of-type {\n",
       "        vertical-align: middle;\n",
       "    }\n",
       "\n",
       "    .dataframe tbody tr th {\n",
       "        vertical-align: top;\n",
       "    }\n",
       "\n",
       "    .dataframe thead th {\n",
       "        text-align: right;\n",
       "    }\n",
       "</style>\n",
       "<table border=\"1\" class=\"dataframe\">\n",
       "  <thead>\n",
       "    <tr style=\"text-align: right;\">\n",
       "      <th></th>\n",
       "      <th>Mean</th>\n",
       "      <th>MCSE</th>\n",
       "      <th>StdDev</th>\n",
       "      <th>5%</th>\n",
       "      <th>50%</th>\n",
       "      <th>95%</th>\n",
       "      <th>N_Eff</th>\n",
       "      <th>N_Eff/s</th>\n",
       "      <th>R_hat</th>\n",
       "    </tr>\n",
       "    <tr>\n",
       "      <th>name</th>\n",
       "      <th></th>\n",
       "      <th></th>\n",
       "      <th></th>\n",
       "      <th></th>\n",
       "      <th></th>\n",
       "      <th></th>\n",
       "      <th></th>\n",
       "      <th></th>\n",
       "      <th></th>\n",
       "    </tr>\n",
       "  </thead>\n",
       "  <tbody>\n",
       "    <tr>\n",
       "      <th>lp__</th>\n",
       "      <td>1900.00000</td>\n",
       "      <td>0.028000</td>\n",
       "      <td>1.2000</td>\n",
       "      <td>1900.0000</td>\n",
       "      <td>1900.00000</td>\n",
       "      <td>1900.0000</td>\n",
       "      <td>1800.0</td>\n",
       "      <td>57.0</td>\n",
       "      <td>1.0</td>\n",
       "    </tr>\n",
       "    <tr>\n",
       "      <th>sigma</th>\n",
       "      <td>0.04800</td>\n",
       "      <td>0.000028</td>\n",
       "      <td>0.0012</td>\n",
       "      <td>0.0460</td>\n",
       "      <td>0.04800</td>\n",
       "      <td>0.0500</td>\n",
       "      <td>1800.0</td>\n",
       "      <td>55.0</td>\n",
       "      <td>1.0</td>\n",
       "    </tr>\n",
       "    <tr>\n",
       "      <th>mu</th>\n",
       "      <td>0.00120</td>\n",
       "      <td>0.000019</td>\n",
       "      <td>0.0014</td>\n",
       "      <td>-0.0012</td>\n",
       "      <td>0.00120</td>\n",
       "      <td>0.0035</td>\n",
       "      <td>5700.0</td>\n",
       "      <td>180.0</td>\n",
       "      <td>1.0</td>\n",
       "    </tr>\n",
       "    <tr>\n",
       "      <th>nu</th>\n",
       "      <td>32.00000</td>\n",
       "      <td>0.330000</td>\n",
       "      <td>13.0000</td>\n",
       "      <td>16.0000</td>\n",
       "      <td>29.00000</td>\n",
       "      <td>60.0000</td>\n",
       "      <td>1700.0</td>\n",
       "      <td>51.0</td>\n",
       "      <td>1.0</td>\n",
       "    </tr>\n",
       "    <tr>\n",
       "      <th>log_lik[1]</th>\n",
       "      <td>1.90000</td>\n",
       "      <td>0.000370</td>\n",
       "      <td>0.0240</td>\n",
       "      <td>1.8000</td>\n",
       "      <td>1.90000</td>\n",
       "      <td>1.9000</td>\n",
       "      <td>4253.0</td>\n",
       "      <td>131.0</td>\n",
       "      <td>1.0</td>\n",
       "    </tr>\n",
       "    <tr>\n",
       "      <th>...</th>\n",
       "      <td>...</td>\n",
       "      <td>...</td>\n",
       "      <td>...</td>\n",
       "      <td>...</td>\n",
       "      <td>...</td>\n",
       "      <td>...</td>\n",
       "      <td>...</td>\n",
       "      <td>...</td>\n",
       "      <td>...</td>\n",
       "    </tr>\n",
       "    <tr>\n",
       "      <th>y_hat[1196]</th>\n",
       "      <td>0.00150</td>\n",
       "      <td>0.000810</td>\n",
       "      <td>0.0510</td>\n",
       "      <td>-0.0820</td>\n",
       "      <td>0.00170</td>\n",
       "      <td>0.0860</td>\n",
       "      <td>3929.0</td>\n",
       "      <td>121.0</td>\n",
       "      <td>1.0</td>\n",
       "    </tr>\n",
       "    <tr>\n",
       "      <th>y_hat[1197]</th>\n",
       "      <td>0.00090</td>\n",
       "      <td>0.000780</td>\n",
       "      <td>0.0500</td>\n",
       "      <td>-0.0820</td>\n",
       "      <td>0.00044</td>\n",
       "      <td>0.0830</td>\n",
       "      <td>4183.0</td>\n",
       "      <td>129.0</td>\n",
       "      <td>1.0</td>\n",
       "    </tr>\n",
       "    <tr>\n",
       "      <th>y_hat[1198]</th>\n",
       "      <td>0.00110</td>\n",
       "      <td>0.000790</td>\n",
       "      <td>0.0500</td>\n",
       "      <td>-0.0810</td>\n",
       "      <td>0.00180</td>\n",
       "      <td>0.0820</td>\n",
       "      <td>4011.0</td>\n",
       "      <td>124.0</td>\n",
       "      <td>1.0</td>\n",
       "    </tr>\n",
       "    <tr>\n",
       "      <th>y_hat[1199]</th>\n",
       "      <td>0.00023</td>\n",
       "      <td>0.000790</td>\n",
       "      <td>0.0510</td>\n",
       "      <td>-0.0850</td>\n",
       "      <td>0.00120</td>\n",
       "      <td>0.0830</td>\n",
       "      <td>4092.0</td>\n",
       "      <td>126.0</td>\n",
       "      <td>1.0</td>\n",
       "    </tr>\n",
       "    <tr>\n",
       "      <th>y_hat[1200]</th>\n",
       "      <td>0.00120</td>\n",
       "      <td>0.000800</td>\n",
       "      <td>0.0500</td>\n",
       "      <td>-0.0800</td>\n",
       "      <td>0.00093</td>\n",
       "      <td>0.0850</td>\n",
       "      <td>3958.0</td>\n",
       "      <td>122.0</td>\n",
       "      <td>1.0</td>\n",
       "    </tr>\n",
       "  </tbody>\n",
       "</table>\n",
       "<p>2404 rows × 9 columns</p>\n",
       "</div>"
      ],
      "text/plain": [
       "                   Mean      MCSE   StdDev         5%         50%        95%  \\\n",
       "name                                                                           \n",
       "lp__         1900.00000  0.028000   1.2000  1900.0000  1900.00000  1900.0000   \n",
       "sigma           0.04800  0.000028   0.0012     0.0460     0.04800     0.0500   \n",
       "mu              0.00120  0.000019   0.0014    -0.0012     0.00120     0.0035   \n",
       "nu             32.00000  0.330000  13.0000    16.0000    29.00000    60.0000   \n",
       "log_lik[1]      1.90000  0.000370   0.0240     1.8000     1.90000     1.9000   \n",
       "...                 ...       ...      ...        ...         ...        ...   \n",
       "y_hat[1196]     0.00150  0.000810   0.0510    -0.0820     0.00170     0.0860   \n",
       "y_hat[1197]     0.00090  0.000780   0.0500    -0.0820     0.00044     0.0830   \n",
       "y_hat[1198]     0.00110  0.000790   0.0500    -0.0810     0.00180     0.0820   \n",
       "y_hat[1199]     0.00023  0.000790   0.0510    -0.0850     0.00120     0.0830   \n",
       "y_hat[1200]     0.00120  0.000800   0.0500    -0.0800     0.00093     0.0850   \n",
       "\n",
       "              N_Eff  N_Eff/s  R_hat  \n",
       "name                                 \n",
       "lp__         1800.0     57.0    1.0  \n",
       "sigma        1800.0     55.0    1.0  \n",
       "mu           5700.0    180.0    1.0  \n",
       "nu           1700.0     51.0    1.0  \n",
       "log_lik[1]   4253.0    131.0    1.0  \n",
       "...             ...      ...    ...  \n",
       "y_hat[1196]  3929.0    121.0    1.0  \n",
       "y_hat[1197]  4183.0    129.0    1.0  \n",
       "y_hat[1198]  4011.0    124.0    1.0  \n",
       "y_hat[1199]  4092.0    126.0    1.0  \n",
       "y_hat[1200]  3958.0    122.0    1.0  \n",
       "\n",
       "[2404 rows x 9 columns]"
      ]
     },
     "execution_count": 17,
     "metadata": {},
     "output_type": "execute_result"
    }
   ],
   "source": [
    "result_4_2 = model_4.sample(data=data_4_2, chains = 4)\n",
    "result_4_2.summary()"
   ]
  },
  {
   "cell_type": "markdown",
   "metadata": {},
   "source": [
    "2.3 Using az.compare and az.plot_compare analyze both models using loo and waic criteria."
   ]
  },
  {
   "cell_type": "code",
   "execution_count": 18,
   "metadata": {},
   "outputs": [
    {
     "data": {
      "image/png": "[encoded data removed]",
      "text/plain": [
       "<Figure size 432x288 with 1 Axes>"
      ]
     },
     "metadata": {
      "needs_background": "light"
     },
     "output_type": "display_data"
    },
    {
     "data": {
      "image/png": "[encoded data removed]",
      "text/plain": [
       "<Figure size 432x288 with 1 Axes>"
      ]
     },
     "metadata": {
      "needs_background": "light"
     },
     "output_type": "display_data"
    },
    {
     "data": {
      "image/png": "[encoded data removed]",
      "text/plain": [
       "<Figure size 432x288 with 1 Axes>"
      ]
     },
     "metadata": {
      "needs_background": "light"
     },
     "output_type": "display_data"
    }
   ],
   "source": [
    "med_prob_ppc_3_1 = np.percentile(result_3_1.stan_variable('y_hat'),[5,16,50,84,95],axis=0)\n",
    "med_prob_ppc = med_prob_ppc_3_1\n",
    "plt.plot(y1_median)\n",
    "plt.plot(med_prob_ppc[0])\n",
    "plt.plot(med_prob_ppc[1])\n",
    "plt.plot(med_prob_ppc[2])\n",
    "plt.plot(med_prob_ppc[3])\n",
    "plt.plot(med_prob_ppc[4])\n",
    "labels= [ \"y1_median\", \"5%\", \"16%\", \"50%\", \"84%\", \"95%\"]\n",
    "plt.legend(labels)\n",
    "plt.show()\n",
    "\n",
    "y_hat_3_1_median=np.percentile(result_3_1.stan_variable('y_hat')[:,:],50,axis=0)\n",
    "plt.hist(y_hat_3_1_median,bins=40)\n",
    "plt.show()\n",
    "plt.hist(y1_median,bins=40)\n",
    "plt.show()"
   ]
  },
  {
   "cell_type": "code",
   "execution_count": 19,
   "metadata": {},
   "outputs": [
    {
     "data": {
      "image/png": "[encoded data removed]",
      "text/plain": [
       "<Figure size 432x288 with 1 Axes>"
      ]
     },
     "metadata": {
      "needs_background": "light"
     },
     "output_type": "display_data"
    },
    {
     "data": {
      "image/png": "[encoded data removed]",
      "text/plain": [
       "<Figure size 432x288 with 1 Axes>"
      ]
     },
     "metadata": {
      "needs_background": "light"
     },
     "output_type": "display_data"
    },
    {
     "data": {
      "image/png": "[encoded data removed]",
      "text/plain": [
       "<Figure size 432x288 with 1 Axes>"
      ]
     },
     "metadata": {
      "needs_background": "light"
     },
     "output_type": "display_data"
    }
   ],
   "source": [
    "med_prob_ppc_4_1 = np.percentile(result_4_1.stan_variable('y_hat'),[5,16,50,84,95],axis=0)\n",
    "med_prob_ppc = med_prob_ppc_4_1\n",
    "plt.plot(y1_median)\n",
    "plt.plot(med_prob_ppc[0])\n",
    "plt.plot(med_prob_ppc[1])\n",
    "plt.plot(med_prob_ppc[2])\n",
    "plt.plot(med_prob_ppc[3])\n",
    "plt.plot(med_prob_ppc[4])\n",
    "labels= [ \"y2_median\", \"5%\", \"16%\", \"50%\", \"84%\", \"95%\"]\n",
    "plt.legend(labels)\n",
    "plt.show()\n",
    "\n",
    "y_hat_4_1_median=np.percentile(result_4_1.stan_variable('y_hat')[:,:],50,axis=0)\n",
    "plt.hist(y_hat_4_1_median,bins=40)\n",
    "plt.show()\n",
    "plt.hist(y1_median,bins=40)\n",
    "plt.show()"
   ]
  },
  {
   "cell_type": "code",
   "execution_count": 20,
   "metadata": {},
   "outputs": [
    {
     "name": "stderr",
     "output_type": "stream",
     "text": [
      "/opt/anaconda3/lib/python3.9/site-packages/arviz/stats/stats.py:248: FutureWarning: The frame.append method is deprecated and will be removed from pandas in a future version. Use pandas.concat instead.\n",
      "  ics = ics.append([ic_func(dataset, pointwise=True, scale=scale, var_name=var_name)])\n",
      "/opt/anaconda3/lib/python3.9/site-packages/arviz/stats/stats.py:248: FutureWarning: The frame.append method is deprecated and will be removed from pandas in a future version. Use pandas.concat instead.\n",
      "  ics = ics.append([ic_func(dataset, pointwise=True, scale=scale, var_name=var_name)])\n",
      "/opt/anaconda3/lib/python3.9/site-packages/arviz/stats/stats.py:248: FutureWarning: The frame.append method is deprecated and will be removed from pandas in a future version. Use pandas.concat instead.\n",
      "  ics = ics.append([ic_func(dataset, pointwise=True, scale=scale, var_name=var_name)])\n",
      "/opt/anaconda3/lib/python3.9/site-packages/arviz/stats/stats.py:248: FutureWarning: The frame.append method is deprecated and will be removed from pandas in a future version. Use pandas.concat instead.\n",
      "  ics = ics.append([ic_func(dataset, pointwise=True, scale=scale, var_name=var_name)])\n"
     ]
    },
    {
     "data": {
      "text/plain": [
       "<AxesSubplot:xlabel='Log'>"
      ]
     },
     "execution_count": 20,
     "metadata": {},
     "output_type": "execute_result"
    },
    {
     "data": {
      "image/png": "[encoded data removed]",
      "text/plain": [
       "<Figure size 432x144 with 1 Axes>"
      ]
     },
     "metadata": {
      "needs_background": "light"
     },
     "output_type": "display_data"
    },
    {
     "data": {
      "image/png": "[encoded data removed]",
      "text/plain": [
       "<Figure size 432x144 with 1 Axes>"
      ]
     },
     "metadata": {
      "needs_background": "light"
     },
     "output_type": "display_data"
    }
   ],
   "source": [
    "results_1 = {'result_3_1': result_3_1,'result_4_1': result_4_1}\n",
    "comparisson_waic_1 = az.compare(results_1, ic = 'waic')\n",
    "az.plot_compare(comparisson_waic_1)\n",
    "comparisson_loo_1 = az.compare(results_1, ic = 'loo')\n",
    "az.plot_compare(comparisson_loo_1)"
   ]
  },
  {
   "cell_type": "code",
   "execution_count": 21,
   "metadata": {},
   "outputs": [
    {
     "data": {
      "image/png": "[encoded data removed]",
      "text/plain": [
       "<Figure size 432x288 with 1 Axes>"
      ]
     },
     "metadata": {
      "needs_background": "light"
     },
     "output_type": "display_data"
    },
    {
     "data": {
      "image/png": "[encoded data removed]",
      "text/plain": [
       "<Figure size 432x288 with 1 Axes>"
      ]
     },
     "metadata": {
      "needs_background": "light"
     },
     "output_type": "display_data"
    },
    {
     "data": {
      "image/png": "[encoded data removed]",
      "text/plain": [
       "<Figure size 432x288 with 1 Axes>"
      ]
     },
     "metadata": {
      "needs_background": "light"
     },
     "output_type": "display_data"
    }
   ],
   "source": [
    "med_prob_ppc_3_2 = np.percentile(result_3_2.stan_variable('y_hat'),[5,16,50,84,95],axis=0)\n",
    "med_prob_ppc = med_prob_ppc_3_2\n",
    "plt.plot(y2_median)\n",
    "plt.plot(med_prob_ppc[0])\n",
    "plt.plot(med_prob_ppc[1])\n",
    "plt.plot(med_prob_ppc[2])\n",
    "plt.plot(med_prob_ppc[3])\n",
    "plt.plot(med_prob_ppc[4])\n",
    "labels= [ \"y2_median\", \"5%\", \"16%\", \"50%\", \"84%\", \"95%\"]\n",
    "plt.legend(labels)\n",
    "plt.show()\n",
    "\n",
    "y_hat_3_2_median=np.percentile(result_3_2.stan_variable('y_hat')[:,:],50,axis=0)\n",
    "plt.hist(y_hat_3_2_median,bins=40)\n",
    "plt.show()\n",
    "plt.hist(y2_median,bins=40)\n",
    "plt.show()"
   ]
  },
  {
   "cell_type": "code",
   "execution_count": 22,
   "metadata": {},
   "outputs": [
    {
     "data": {
      "image/png": "[encoded data removed]",
      "text/plain": [
       "<Figure size 432x288 with 1 Axes>"
      ]
     },
     "metadata": {
      "needs_background": "light"
     },
     "output_type": "display_data"
    },
    {
     "data": {
      "image/png": "[encoded data removed]",
      "text/plain": [
       "<Figure size 432x288 with 1 Axes>"
      ]
     },
     "metadata": {
      "needs_background": "light"
     },
     "output_type": "display_data"
    },
    {
     "data": {
      "image/png": "[encoded data removed]",
      "text/plain": [
       "<Figure size 432x288 with 1 Axes>"
      ]
     },
     "metadata": {
      "needs_background": "light"
     },
     "output_type": "display_data"
    }
   ],
   "source": [
    "med_prob_ppc_4_2 = np.percentile(result_4_2.stan_variable('y_hat'),[5,16,50,84,95],axis=0)\n",
    "med_prob_ppc = med_prob_ppc_4_2\n",
    "plt.plot(y1_median)\n",
    "plt.plot(med_prob_ppc[0])\n",
    "plt.plot(med_prob_ppc[1])\n",
    "plt.plot(med_prob_ppc[2])\n",
    "plt.plot(med_prob_ppc[3])\n",
    "plt.plot(med_prob_ppc[4])\n",
    "labels= [ \"y2_median\", \"5%\", \"16%\", \"50%\", \"84%\", \"95%\"]\n",
    "plt.legend(labels)\n",
    "plt.show()\n",
    "\n",
    "y_hat_4_2_median=np.percentile(result_4_2.stan_variable('y_hat')[:,:],50,axis=0)\n",
    "plt.hist(y_hat_4_2_median,bins=40)\n",
    "plt.show()\n",
    "plt.hist(y2_median,bins=40)\n",
    "plt.show()"
   ]
  },
  {
   "cell_type": "code",
   "execution_count": 23,
   "metadata": {},
   "outputs": [
    {
     "name": "stderr",
     "output_type": "stream",
     "text": [
      "/opt/anaconda3/lib/python3.9/site-packages/arviz/stats/stats.py:248: FutureWarning: The frame.append method is deprecated and will be removed from pandas in a future version. Use pandas.concat instead.\n",
      "  ics = ics.append([ic_func(dataset, pointwise=True, scale=scale, var_name=var_name)])\n",
      "/opt/anaconda3/lib/python3.9/site-packages/arviz/stats/stats.py:248: FutureWarning: The frame.append method is deprecated and will be removed from pandas in a future version. Use pandas.concat instead.\n",
      "  ics = ics.append([ic_func(dataset, pointwise=True, scale=scale, var_name=var_name)])\n",
      "/opt/anaconda3/lib/python3.9/site-packages/arviz/stats/stats.py:248: FutureWarning: The frame.append method is deprecated and will be removed from pandas in a future version. Use pandas.concat instead.\n",
      "  ics = ics.append([ic_func(dataset, pointwise=True, scale=scale, var_name=var_name)])\n",
      "/opt/anaconda3/lib/python3.9/site-packages/arviz/stats/stats.py:248: FutureWarning: The frame.append method is deprecated and will be removed from pandas in a future version. Use pandas.concat instead.\n",
      "  ics = ics.append([ic_func(dataset, pointwise=True, scale=scale, var_name=var_name)])\n"
     ]
    },
    {
     "data": {
      "text/plain": [
       "<AxesSubplot:xlabel='Log'>"
      ]
     },
     "execution_count": 23,
     "metadata": {},
     "output_type": "execute_result"
    },
    {
     "data": {
      "image/png": "[encoded data removed]",
      "text/plain": [
       "<Figure size 432x144 with 1 Axes>"
      ]
     },
     "metadata": {
      "needs_background": "light"
     },
     "output_type": "display_data"
    },
    {
     "data": {
      "image/png": "[encoded data removed]",
      "text/plain": [
       "<Figure size 432x144 with 1 Axes>"
      ]
     },
     "metadata": {
      "needs_background": "light"
     },
     "output_type": "display_data"
    }
   ],
   "source": [
    "results_2 = {'result_3_2': result_3_2,'result_4_2': result_4_2}\n",
    "comparisson_waic_2 = az.compare(results_2, ic = 'waic')\n",
    "az.plot_compare(comparisson_waic_2)\n",
    "comparisson_loo_2 = az.compare(results_2, ic = 'loo')\n",
    "az.plot_compare(comparisson_loo_2)"
   ]
  },
  {
   "cell_type": "code",
   "execution_count": 24,
   "metadata": {},
   "outputs": [],
   "source": [
    "x2_median_1_3=np.percentile(result_2.stan_variable('X')[:,:],50,axis=0)\n",
    "x2_median_0=np.percentile(result_2.stan_variable('X')[:,:,0],50,axis=0)\n",
    "x2_median_1=np.percentile(result_2.stan_variable('X')[:,:,1],50,axis=0)\n",
    "x2_median_2=np.percentile(result_2.stan_variable('X')[:,:,2],50,axis=0)\n",
    "x2_median_K1=x2_median_1_3[:,0:1]\n",
    "x2_median_K2=x2_median_1_3[:,0:2]\n",
    "x2_median_K3=x2_median_1_3[:,0:3]"
   ]
  },
  {
   "cell_type": "code",
   "execution_count": 25,
   "metadata": {},
   "outputs": [
    {
     "name": "stderr",
     "output_type": "stream",
     "text": [
      "INFO:cmdstanpy:compiling stan file /Users/piotrszyller/Documents/2ndLv/s01/DataAnalytics/L07/code_5.stan to exe file /Users/piotrszyller/Documents/2ndLv/s01/DataAnalytics/L07/code_5\n",
      "ERROR:cmdstanpy:Stan program failed to compile:\n",
      "WARNING:cmdstanpy:\n",
      "--- Translating Stan model to C++ code ---\n",
      "bin/stanc  --o=/Users/piotrszyller/Documents/2ndLv/s01/DataAnalytics/L07/code_5.hpp /Users/piotrszyller/Documents/2ndLv/s01/DataAnalytics/L07/code_5.stan\n",
      "Semantic error in '/Users/piotrszyller/Documents/2ndLv/s01/DataAnalytics/L07/code_5.stan', line 27, column 14 to column 15:\n",
      "   -------------------------------------------------\n",
      "    25:     array [N] real y_hat;\n",
      "    26:     for (i in 1:N) {\n",
      "    27:        log_lik[j] = normal_lpdf(y[j] | mu[j], sigma);\n",
      "                       ^\n",
      "    28:        y_hat[j] = normal_rng(mu[j],sigma);\n",
      "    29:     }\n",
      "   -------------------------------------------------\n",
      "\n",
      "Identifier 'j' not in scope.\n",
      "make: *** [make/program:50: /Users/piotrszyller/Documents/2ndLv/s01/DataAnalytics/L07/code_5.hpp] Error 1\n",
      "\n",
      "Command ['make', '/Users/piotrszyller/Documents/2ndLv/s01/DataAnalytics/L07/code_5']\n",
      "\terror during processing No such file or directory\n",
      "\n"
     ]
    },
    {
     "ename": "ValueError",
     "evalue": "Unable to compile Stan model file: /Users/piotrszyller/Documents/2ndLv/s01/DataAnalytics/L07/code_5.stan.",
     "output_type": "error",
     "traceback": [
      "\u001b[0;31m---------------------------------------------------------------------------\u001b[0m",
      "\u001b[0;31mValueError\u001b[0m                                Traceback (most recent call last)",
      "\u001b[1;32m/Users/piotrszyller/Documents/2ndLv/s01/DataAnalytics/L07/exercise1.ipynb Cell 25'\u001b[0m in \u001b[0;36m<cell line: 1>\u001b[0;34m()\u001b[0m\n\u001b[0;32m----> <a href='vscode-notebook-cell:/Users/piotrszyller/Documents/2ndLv/s01/DataAnalytics/L07/exercise1.ipynb#ch0000034?line=0'>1</a>\u001b[0m model_5 \u001b[39m=\u001b[39m CmdStanModel(stan_file\u001b[39m=\u001b[39;49m\u001b[39m'\u001b[39;49m\u001b[39mcode_5.stan\u001b[39;49m\u001b[39m'\u001b[39;49m)\n",
      "File \u001b[0;32m/opt/anaconda3/lib/python3.9/site-packages/cmdstanpy/model.py:210\u001b[0m, in \u001b[0;36mCmdStanModel.__init__\u001b[0;34m(self, model_name, stan_file, exe_file, compile, stanc_options, cpp_options, user_header)\u001b[0m\n\u001b[1;32m    <a href='file:///opt/anaconda3/lib/python3.9/site-packages/cmdstanpy/model.py?line=207'>208</a>\u001b[0m \u001b[39mself\u001b[39m\u001b[39m.\u001b[39mcompile(force\u001b[39m=\u001b[39m\u001b[39mstr\u001b[39m(\u001b[39mcompile\u001b[39m)\u001b[39m.\u001b[39mlower() \u001b[39m==\u001b[39m \u001b[39m'\u001b[39m\u001b[39mforce\u001b[39m\u001b[39m'\u001b[39m)\n\u001b[1;32m    <a href='file:///opt/anaconda3/lib/python3.9/site-packages/cmdstanpy/model.py?line=208'>209</a>\u001b[0m \u001b[39mif\u001b[39;00m \u001b[39mself\u001b[39m\u001b[39m.\u001b[39m_exe_file \u001b[39mis\u001b[39;00m \u001b[39mNone\u001b[39;00m:\n\u001b[0;32m--> <a href='file:///opt/anaconda3/lib/python3.9/site-packages/cmdstanpy/model.py?line=209'>210</a>\u001b[0m     \u001b[39mraise\u001b[39;00m \u001b[39mValueError\u001b[39;00m(\n\u001b[1;32m    <a href='file:///opt/anaconda3/lib/python3.9/site-packages/cmdstanpy/model.py?line=210'>211</a>\u001b[0m         \u001b[39m'\u001b[39m\u001b[39mUnable to compile Stan model file: \u001b[39m\u001b[39m{}\u001b[39;00m\u001b[39m.\u001b[39m\u001b[39m'\u001b[39m\u001b[39m.\u001b[39mformat(\n\u001b[1;32m    <a href='file:///opt/anaconda3/lib/python3.9/site-packages/cmdstanpy/model.py?line=211'>212</a>\u001b[0m             \u001b[39mself\u001b[39m\u001b[39m.\u001b[39m_stan_file\n\u001b[1;32m    <a href='file:///opt/anaconda3/lib/python3.9/site-packages/cmdstanpy/model.py?line=212'>213</a>\u001b[0m         )\n\u001b[1;32m    <a href='file:///opt/anaconda3/lib/python3.9/site-packages/cmdstanpy/model.py?line=213'>214</a>\u001b[0m     )\n",
      "\u001b[0;31mValueError\u001b[0m: Unable to compile Stan model file: /Users/piotrszyller/Documents/2ndLv/s01/DataAnalytics/L07/code_5.stan."
     ]
    }
   ],
   "source": [
    "model_5 = CmdStanModel(stan_file='code_5.stan')"
   ]
  },
  {
   "cell_type": "code",
   "execution_count": null,
   "metadata": {},
   "outputs": [],
   "source": [
    "data_5_K1=dict(\n",
    "    N=N,\n",
    "    K=1,\n",
    "    y=y2_median,\n",
    "    X=x2_median_K1\n",
    ")\n",
    "result_5_K1 = model_5.sample(data=data_5_K1, chains = 4)"
   ]
  },
  {
   "cell_type": "code",
   "execution_count": null,
   "metadata": {},
   "outputs": [],
   "source": [
    "data_5_K2=dict(\n",
    "    N=N,\n",
    "    K=2,\n",
    "    y=y2_median,\n",
    "    X=x2_median_K2\n",
    ")\n",
    "result_5_K2 = model_5.sample(data=data_5_K2, chains = 4)"
   ]
  },
  {
   "cell_type": "code",
   "execution_count": null,
   "metadata": {},
   "outputs": [],
   "source": [
    "data_5_K3=dict(\n",
    "    N=N,\n",
    "    K=3,\n",
    "    y=y2_median,\n",
    "    X=x2_median_K3\n",
    ")\n",
    "result_5_K3 = model_5.sample(data=data_5_K3, chains = 4)"
   ]
  },
  {
   "cell_type": "markdown",
   "metadata": {},
   "source": [
    "compare models for predictors 1,2 and 3"
   ]
  },
  {
   "cell_type": "code",
   "execution_count": null,
   "metadata": {},
   "outputs": [],
   "source": [
    "results_5 = {'result_5_K1': result_5_K1,'result_5_K3': result_5_K3,'result_5_K2': result_5_K2}\n",
    "comparisson_waic_5 = az.compare(results_5, ic = 'waic')\n",
    "az.plot_compare(comparisson_waic_5)\n",
    "comparisson_loo_5 = az.compare(results_5, ic = 'loo')\n",
    "az.plot_compare(comparisson_loo_5)"
   ]
  },
  {
   "cell_type": "code",
   "execution_count": null,
   "metadata": {},
   "outputs": [],
   "source": [
    "result_5_K3.summary()"
   ]
  },
  {
   "cell_type": "code",
   "execution_count": null,
   "metadata": {},
   "outputs": [],
   "source": [
    "med_prob_ppc_5_2 = np.percentile(result_5_K3.stan_variable('y_hat'),[5,16,50,84,95],axis=0)\n",
    "med_prob_ppc = med_prob_ppc_5_2\n",
    "plt.plot(med_prob_ppc[0])\n",
    "plt.plot(med_prob_ppc[1])\n",
    "plt.plot(med_prob_ppc[3])\n",
    "plt.plot(med_prob_ppc[4])\n",
    "plt.plot(med_prob_ppc[2])\n",
    "plt.plot(y2_median)\n",
    "labels= [ \"5%\", \"16%\",\"84%\",\"95%\",\"50%\",\"y2_median\"]\n",
    "plt.legend(labels)\n",
    "plt.show()\n",
    "\n",
    "y_hat_5_2_median=np.percentile(result_5_K3.stan_variable('y_hat')[:,:],50,axis=0)\n",
    "plt.hist(y_hat_5_2_median,bins=40)\n",
    "plt.show()\n",
    "plt.hist(y2_median,bins=40)\n",
    "plt.show()\n",
    "\n",
    "\n",
    "\n",
    "err=y_hat_5_2_median-y2_median\n",
    "plt.plot(err)\n",
    "plt.show()\n",
    "plt.hist(err,bins=40)\n",
    "plt.show()"
   ]
  },
  {
   "cell_type": "code",
   "execution_count": null,
   "metadata": {},
   "outputs": [],
   "source": []
  }
 ],
 "metadata": {
  "interpreter": {
   "hash": "40d3a090f54c6569ab1632332b64b2c03c39dcf918b08424e98f38b5ae0af88f"
  },
  "kernelspec": {
   "display_name": "Python 3.9.7 ('base')",
   "language": "python",
   "name": "python3"
  },
  "language_info": {
   "codemirror_mode": {
    "name": "ipython",
    "version": 3
   },
   "file_extension": ".py",
   "mimetype": "text/x-python",
   "name": "python",
   "nbconvert_exporter": "python",
   "pygments_lexer": "ipython3",
   "version": "3.9.7"
  },
  "orig_nbformat": 4
 },
 "nbformat": 4,
 "nbformat_minor": 2
}
