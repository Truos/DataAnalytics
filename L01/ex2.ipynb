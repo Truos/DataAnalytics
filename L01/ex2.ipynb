{
 "cells": [
  {
   "cell_type": "code",
   "execution_count": 1,
   "metadata": {},
   "outputs": [
    {
     "name": "stderr",
     "output_type": "stream",
     "text": [
      "INFO:cmdstanpy:found newer exe file, not recompiling\n"
     ]
    },
    {
     "data": {
      "text/plain": [
       "'data {\\n  int<lower=0> N;\\n  array[N] int<lower=0,upper=1> y; // or int<lower=0,upper=1> y[N];\\n}\\nparameters {\\n  real<lower=0,upper=1> theta;\\n}\\nmodel {\\n  theta ~ beta(1,1);  // uniform prior on interval 0,1\\n  y ~ bernoulli(theta);\\n}\\n'"
      ]
     },
     "execution_count": 1,
     "metadata": {},
     "output_type": "execute_result"
    }
   ],
   "source": [
    "import os\n",
    "from cmdstanpy import cmdstan_path, CmdStanModel\n",
    "\n"
   ]
  }
 ],
 "metadata": {
  "interpreter": {
   "hash": "3890a6f470e7a803122511ccf42477afe7a6382bfed06cc34db9bf4af0fa0efb"
  },
  "kernelspec": {
   "display_name": "Python 3.7.11 ('3433')",
   "language": "python",
   "name": "python3"
  },
  "language_info": {
   "codemirror_mode": {
    "name": "ipython",
    "version": 3
   },
   "file_extension": ".py",
   "mimetype": "text/x-python",
   "name": "python",
   "nbconvert_exporter": "python",
   "pygments_lexer": "ipython3",
   "version": "3.7.11"
  },
  "orig_nbformat": 4
 },
 "nbformat": 4,
 "nbformat_minor": 2
}
