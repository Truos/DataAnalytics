{
 "cells": [
  {
   "cell_type": "code",
   "execution_count": 1,
   "metadata": {},
   "outputs": [],
   "source": [
    "from cmdstanpy import CmdStanModel\n",
    "import pandas as pd\n",
    "#import arviz as az \n",
    "import numpy as np\n",
    "import matplotlib.pyplot as plt\n",
    "import scipy.stats as stats"
   ]
  },
  {
   "cell_type": "code",
   "execution_count": 2,
   "metadata": {},
   "outputs": [
    {
     "name": "stderr",
     "output_type": "stream",
     "text": [
      "INFO:cmdstanpy:found newer exe file, not recompiling\n"
     ]
    }
   ],
   "source": [
    "gen_quant = CmdStanModel(stan_file='code_1.stan')"
   ]
  },
  {
   "cell_type": "code",
   "execution_count": 3,
   "metadata": {},
   "outputs": [
    {
     "name": "stderr",
     "output_type": "stream",
     "text": [
      "INFO:cmdstanpy:CmdStan start processing\n"
     ]
    },
    {
     "data": {
      "application/vnd.jupyter.widget-view+json": {
       "model_id": "4f75441dad45439babc8080b509aaa79",
       "version_major": 2,
       "version_minor": 0
      },
      "text/plain": [
       "chain 1 |          | 00:00 Status"
      ]
     },
     "metadata": {},
     "output_type": "display_data"
    },
    {
     "name": "stdout",
     "output_type": "stream",
     "text": [
      "                                                                                "
     ]
    },
    {
     "name": "stderr",
     "output_type": "stream",
     "text": [
      "INFO:cmdstanpy:CmdStan done processing.\n"
     ]
    },
    {
     "name": "stdout",
     "output_type": "stream",
     "text": [
      "\n"
     ]
    }
   ],
   "source": [
    "samples = gen_quant.sample(data={'M':5}, \n",
    "                            fixed_param=True, \n",
    "                            iter_sampling=1000, \n",
    "                            iter_warmup=0, \n",
    "                            chains = 1)"
   ]
  },
  {
   "cell_type": "code",
   "execution_count": 4,
   "metadata": {},
   "outputs": [
    {
     "data": {
      "text/plain": [
       "0       33.9320\n",
       "1       78.6344\n",
       "2       11.6556\n",
       "3      110.3680\n",
       "4       69.3319\n",
       "         ...   \n",
       "995    177.1910\n",
       "996     33.1508\n",
       "997     17.9919\n",
       "998    124.8860\n",
       "999     54.2362\n",
       "Name: lambda, Length: 1000, dtype: float64"
      ]
     },
     "execution_count": 4,
     "metadata": {},
     "output_type": "execute_result"
    }
   ],
   "source": [
    "#df=pd.DataFrame(samples.draws(concat_chains=True))\n",
    "df = pd.DataFrame(samples.draws(concat_chains=True), columns= ['0', '1', 'lambda', 'ysim1', 'ysim2', 'ysim3', 'ysim4', 'ysim5'])\n",
    "df['lambda']"
   ]
  },
  {
   "cell_type": "code",
   "execution_count": 5,
   "metadata": {},
   "outputs": [
    {
     "data": {
      "text/plain": [
       "(array([286., 262., 164., 125.,  87.,  40.,  21.,   9.,   2.,   4.]),\n",
       " array([5.26475000e-02, 4.20355828e+01, 8.40185180e+01, 1.26001453e+02,\n",
       "        1.67984389e+02, 2.09967324e+02, 2.51950259e+02, 2.93933194e+02,\n",
       "        3.35916130e+02, 3.77899065e+02, 4.19882000e+02]),\n",
       " <BarContainer object of 10 artists>)"
      ]
     },
     "execution_count": 5,
     "metadata": {},
     "output_type": "execute_result"
    },
    {
     "data": {
      "image/png": "[encoded data removed]",
      "text/plain": [
       "<Figure size 432x288 with 1 Axes>"
      ]
     },
     "metadata": {
      "needs_background": "light"
     },
     "output_type": "display_data"
    }
   ],
   "source": [
    "df.index = range(1000)\n",
    "plt.hist(df['lambda'],bins=10)"
   ]
  },
  {
   "cell_type": "code",
   "execution_count": 6,
   "metadata": {},
   "outputs": [
    {
     "data": {
      "text/plain": [
       "(array([285., 267., 173., 122.,  81.,  36.,  17.,  12.,   4.,   3.]),\n",
       " array([  0.,  43.,  86., 129., 172., 215., 258., 301., 344., 387., 430.]),\n",
       " <BarContainer object of 10 artists>)"
      ]
     },
     "execution_count": 6,
     "metadata": {},
     "output_type": "execute_result"
    },
    {
     "data": {
      "image/png": "[encoded data removed]",
      "text/plain": [
       "<Figure size 432x288 with 6 Axes>"
      ]
     },
     "metadata": {
      "needs_background": "light"
     },
     "output_type": "display_data"
    }
   ],
   "source": [
    "nobins = 10;\n",
    "f,ax = plt.subplots(3,2)\n",
    "ax[0,0].hist(df['lambda'])\n",
    "ax[0,1].hist(df['ysim1'])\n",
    "ax[1,0].hist(df['ysim2'])\n",
    "ax[1,1].hist(df['ysim3'])\n",
    "ax[2,0].hist(df['ysim4'])\n",
    "ax[2,1].hist(df['ysim5'])\n"
   ]
  }
 ],
 "metadata": {
  "interpreter": {
   "hash": "9cca9654ec19e0d6afaba462abe3e4f958b25156fc9de4c7cea40faf1c2e223b"
  },
  "kernelspec": {
   "display_name": "Python 3 (ipykernel)",
   "language": "python",
   "name": "python3"
  },
  "language_info": {
   "codemirror_mode": {
    "name": "ipython",
    "version": 3
   },
   "file_extension": ".py",
   "mimetype": "text/x-python",
   "name": "python",
   "nbconvert_exporter": "python",
   "pygments_lexer": "ipython3",
   "version": "3.9.7"
  }
 },
 "nbformat": 4,
 "nbformat_minor": 2
}
